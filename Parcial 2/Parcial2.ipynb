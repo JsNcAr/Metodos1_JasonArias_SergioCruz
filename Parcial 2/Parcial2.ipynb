{
 "cells": [
  {
   "cell_type": "code",
   "execution_count": 1,
   "metadata": {},
   "outputs": [],
   "source": [
    "import numpy as np\n",
    "import matplotlib.pyplot as plt\n",
    "import pandas as pd\n",
    "import seaborn as sns\n",
    "import sympy as sp\n"
   ]
  },
  {
   "cell_type": "markdown",
   "metadata": {},
   "source": [
    "## Punto a"
   ]
  },
  {
   "cell_type": "code",
   "execution_count": 2,
   "metadata": {},
   "outputs": [],
   "source": [
    "def bilineal_aprox(x, y, p, N):\n",
    "    sum = 0\n",
    "    for i in range(N):\n",
    "        for j in range(N):\n",
    "            sum += p[i, j]*x**i*y**j\n",
    "    return sum\n"
   ]
  },
  {
   "cell_type": "code",
   "execution_count": 3,
   "metadata": {},
   "outputs": [],
   "source": [
    "def sympy_bilineal_aprox(x, y, N):\n",
    "    sum = 0\n",
    "    x = sp.symbols('x')\n",
    "    y = sp.symbols('y')\n",
    "    for i in range(N):\n",
    "        for j in range(N):\n",
    "            a_s = sp.symbols('a'+str(i)+str(j))\n",
    "            sum += a_s*x**i*y**j\n",
    "    return sum\n"
   ]
  },
  {
   "cell_type": "markdown",
   "metadata": {},
   "source": [
    "## b)"
   ]
  },
  {
   "cell_type": "code",
   "execution_count": 4,
   "metadata": {},
   "outputs": [
    {
     "name": "stdout",
     "output_type": "stream",
     "text": [
      "[1.0, 1.0, -1.0, 1.0, -1.0, -1.0, 1.0, -1.0]\n"
     ]
    }
   ],
   "source": [
    "position = np.zeros((4, 2))\n",
    "position[0] = [1, 1]\n",
    "position[1] = [-1, 1]\n",
    "position[2] = [-1, -1]\n",
    "position[3] = [1, -1]\n",
    "\n",
    "a = []\n",
    "for i in range(4):\n",
    "    for j in range(2):\n",
    "        a.append(position[i, j])\n",
    "\n",
    "print(f'{a}')\n"
   ]
  },
  {
   "cell_type": "code",
   "execution_count": 5,
   "metadata": {},
   "outputs": [
    {
     "name": "stdout",
     "output_type": "stream",
     "text": [
      "a00 + a01*y + a10*x + a11*x*y\n"
     ]
    }
   ],
   "source": [
    "\n",
    "sym_bilineal = sympy_bilineal_aprox(1, 1, 2)\n",
    "print(f'{sym_bilineal}')\n"
   ]
  },
  {
   "cell_type": "markdown",
   "metadata": {},
   "source": [
    "## C"
   ]
  },
  {
   "cell_type": "code",
   "execution_count": 6,
   "metadata": {},
   "outputs": [],
   "source": [
    "P = np.zeros((4, 1))\n",
    "P[0] = 1\n",
    "P[1] = 2\n",
    "P[2] = 0.5\n",
    "P[3] = 0.3\n"
   ]
  },
  {
   "cell_type": "code",
   "execution_count": 7,
<<<<<<< Updated upstream
   "metadata": {},
   "outputs": [
    {
     "name": "stdout",
     "output_type": "stream",
     "text": [
      "1.0\n"
     ]
    }
   ],
   "source": [
    "print(f'{position[0, 0]}')"
   ]
  },
  {
   "cell_type": "code",
   "execution_count": 8,
   "metadata": {},
   "outputs": [],
   "source": [
    "def make_square(A):\n",
    "    return A @ A.T"
   ]
  },
  {
   "cell_type": "code",
   "execution_count": 9,
   "metadata": {},
=======
   "metadata": {},
>>>>>>> Stashed changes
   "outputs": [
    {
     "name": "stdout",
     "output_type": "stream",
     "text": [
<<<<<<< Updated upstream
      "[[ 1. ]\n",
      " [ 3.4]\n",
      " [-1. ]\n",
      " [-3.4]]\n"
=======
      "1.0\n"
>>>>>>> Stashed changes
     ]
    }
   ],
   "source": [
<<<<<<< Updated upstream
    "x = make_square(position)@P\n",
=======
    "print(f'{position[0, 0]}')"
   ]
  },
  {
   "cell_type": "code",
   "execution_count": 13,
   "metadata": {},
   "outputs": [
    {
     "ename": "LinAlgError",
     "evalue": "Last 2 dimensions of the array must be square",
     "output_type": "error",
     "traceback": [
      "\u001b[0;31m---------------------------------------------------------------------------\u001b[0m",
      "\u001b[0;31mLinAlgError\u001b[0m                               Traceback (most recent call last)",
      "\u001b[1;32m/home/ramsus/Programming/Metodos1_JasonArias_SergioCruz/Parcial 2/Parcial2.ipynb Cell 11\u001b[0m in \u001b[0;36m<cell line: 1>\u001b[0;34m()\u001b[0m\n\u001b[0;32m----> <a href='vscode-notebook-cell:/home/ramsus/Programming/Metodos1_JasonArias_SergioCruz/Parcial%202/Parcial2.ipynb#X12sZmlsZQ%3D%3D?line=0'>1</a>\u001b[0m s \u001b[39m=\u001b[39m np\u001b[39m.\u001b[39;49mlinalg\u001b[39m.\u001b[39;49msolve(P, position)\n\u001b[1;32m      <a href='vscode-notebook-cell:/home/ramsus/Programming/Metodos1_JasonArias_SergioCruz/Parcial%202/Parcial2.ipynb#X12sZmlsZQ%3D%3D?line=1'>2</a>\u001b[0m \u001b[39mprint\u001b[39m(\u001b[39mf\u001b[39m\u001b[39m'\u001b[39m\u001b[39m{\u001b[39;00ms\u001b[39m}\u001b[39;00m\u001b[39m'\u001b[39m)\n",
      "File \u001b[0;32m<__array_function__ internals>:5\u001b[0m, in \u001b[0;36msolve\u001b[0;34m(*args, **kwargs)\u001b[0m\n",
      "File \u001b[0;32m~/anaconda3/lib/python3.9/site-packages/numpy/linalg/linalg.py:380\u001b[0m, in \u001b[0;36msolve\u001b[0;34m(a, b)\u001b[0m\n\u001b[1;32m    378\u001b[0m a, _ \u001b[39m=\u001b[39m _makearray(a)\n\u001b[1;32m    379\u001b[0m _assert_stacked_2d(a)\n\u001b[0;32m--> 380\u001b[0m _assert_stacked_square(a)\n\u001b[1;32m    381\u001b[0m b, wrap \u001b[39m=\u001b[39m _makearray(b)\n\u001b[1;32m    382\u001b[0m t, result_t \u001b[39m=\u001b[39m _commonType(a, b)\n",
      "File \u001b[0;32m~/anaconda3/lib/python3.9/site-packages/numpy/linalg/linalg.py:203\u001b[0m, in \u001b[0;36m_assert_stacked_square\u001b[0;34m(*arrays)\u001b[0m\n\u001b[1;32m    201\u001b[0m m, n \u001b[39m=\u001b[39m a\u001b[39m.\u001b[39mshape[\u001b[39m-\u001b[39m\u001b[39m2\u001b[39m:]\n\u001b[1;32m    202\u001b[0m \u001b[39mif\u001b[39;00m m \u001b[39m!=\u001b[39m n:\n\u001b[0;32m--> 203\u001b[0m     \u001b[39mraise\u001b[39;00m LinAlgError(\u001b[39m'\u001b[39m\u001b[39mLast 2 dimensions of the array must be square\u001b[39m\u001b[39m'\u001b[39m)\n",
      "\u001b[0;31mLinAlgError\u001b[0m: Last 2 dimensions of the array must be square"
     ]
    }
   ],
   "source": [
    "x = non_square_inverse(position)@P\n",
>>>>>>> Stashed changes
    "print(f'{x}')"
   ]
  },
  {
<<<<<<< Updated upstream
   "cell_type": "markdown",
   "metadata": {},
   "source": [
    "## D"
   ]
  },
  {
   "cell_type": "code",
   "execution_count": 10,
   "metadata": {},
   "outputs": [],
   "source": [
    "def non_square_inverse(A):\n",
    "    return np.linalg.inv(A.T @ A) @ A.T"
   ]
  },
  {
   "cell_type": "code",
   "execution_count": 11,
   "metadata": {},
   "outputs": [
    {
     "name": "stdout",
     "output_type": "stream",
     "text": [
      "[[-1.2]\n",
      " [ 2.2]]\n"
     ]
    }
   ],
   "source": [
    "test = non_square_inverse(position)@x\n",
    "print(f'{test}')"
   ]
  },
  {
   "cell_type": "markdown",
   "metadata": {},
   "source": [
    "## F"
   ]
  },
  {
   "cell_type": "code",
   "execution_count": 14,
   "metadata": {},
   "outputs": [
    {
     "name": "stdout",
     "output_type": "stream",
     "text": [
      "[[ 0.5]\n",
      " [ 2.9]\n",
      " [-0.5]\n",
      " [-2.9]]\n"
     ]
    }
   ],
   "source": [
    "Pd = np.zeros((2, 1))\n",
    "Pd[0] = 0\n",
    "Pd[1] = 0.5\n",
    "\n",
    "T_b = x - position@Pd\n",
    "print(f'{T_b}')"
=======
   "cell_type": "code",
   "execution_count": 12,
   "metadata": {},
   "outputs": [
    {
     "data": {
      "text/plain": [
       "array([[1. ],\n",
       "       [2. ],\n",
       "       [0.5],\n",
       "       [0.3]])"
      ]
     },
     "execution_count": 12,
     "metadata": {},
     "output_type": "execute_result"
    }
   ],
   "source": [
    "P"
>>>>>>> Stashed changes
   ]
  }
 ],
 "metadata": {
  "kernelspec": {
   "display_name": "Python 3.9.12 ('base')",
   "language": "python",
   "name": "python3"
  },
  "language_info": {
   "codemirror_mode": {
    "name": "ipython",
    "version": 3
   },
   "file_extension": ".py",
   "mimetype": "text/x-python",
   "name": "python",
   "nbconvert_exporter": "python",
   "pygments_lexer": "ipython3",
   "version": "3.9.12"
  },
  "orig_nbformat": 4,
  "vscode": {
   "interpreter": {
    "hash": "b3ff5c1b5424807e928bf8bee38bc8a3478b3941c229b42d5add67274bc7395e"
   }
  }
 },
 "nbformat": 4,
 "nbformat_minor": 2
}
