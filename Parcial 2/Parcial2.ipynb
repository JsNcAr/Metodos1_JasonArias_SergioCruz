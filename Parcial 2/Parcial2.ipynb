{
 "cells": [
  {
   "cell_type": "code",
   "execution_count": 1,
   "metadata": {},
   "outputs": [],
   "source": [
    "import numpy as np\n",
    "import matplotlib.pyplot as plt\n",
    "import pandas as pd\n",
    "import seaborn as sns\n",
    "import sympy as sp\n"
   ]
  },
  {
   "cell_type": "markdown",
   "metadata": {},
   "source": [
    "## Punto a"
   ]
  },
  {
   "cell_type": "code",
   "execution_count": 2,
   "metadata": {},
   "outputs": [],
   "source": [
    "def bilineal_aprox(x, y, p, N):\n",
    "    sum = 0\n",
    "    for i in range(N):\n",
    "        for j in range(N):\n",
    "            sum += p[i, j]*x**i*y**j\n",
    "    return sum\n"
   ]
  },
  {
   "cell_type": "code",
   "execution_count": 3,
   "metadata": {},
   "outputs": [],
   "source": [
    "def sympy_bilineal_aprox(x, y, N):\n",
    "    sum = 0\n",
    "    x = sp.symbols('x')\n",
    "    y = sp.symbols('y')\n",
    "    for i in range(N):\n",
    "        for j in range(N):\n",
    "            a_s = sp.symbols('a'+str(i)+str(j))\n",
    "            sum += a_s*x**i*y**j\n",
    "    return sum\n"
   ]
  },
  {
   "cell_type": "markdown",
   "metadata": {},
   "source": [
    "## b)"
   ]
  },
  {
   "cell_type": "code",
   "execution_count": 4,
   "metadata": {},
   "outputs": [
    {
     "name": "stdout",
     "output_type": "stream",
     "text": [
      "[1.0, 1.0, -1.0, 1.0, -1.0, -1.0, 1.0, -1.0]\n"
     ]
    }
   ],
   "source": [
    "position = np.zeros((4, 2))\n",
    "position[0] = [1, 1]\n",
    "position[1] = [-1, 1]\n",
    "position[2] = [-1, -1]\n",
    "position[3] = [1, -1]\n",
    "\n",
    "a = []\n",
    "for i in range(4):\n",
    "    for j in range(2):\n",
    "        a.append(position[i, j])\n",
    "\n",
    "print(f'{a}')\n"
   ]
  },
  {
   "cell_type": "code",
   "execution_count": 5,
   "metadata": {},
   "outputs": [
    {
     "name": "stdout",
     "output_type": "stream",
     "text": [
      "a00 + a01*y + a10*x + a11*x*y\n"
     ]
    }
   ],
   "source": [
    "\n",
    "sym_bilineal = sympy_bilineal_aprox(1, 1, 2)\n",
    "print(f'{sym_bilineal}')\n"
   ]
  },
  {
   "cell_type": "markdown",
   "metadata": {},
   "source": [
    "## C"
   ]
  },
  {
   "cell_type": "code",
   "execution_count": 6,
   "metadata": {},
   "outputs": [],
   "source": [
    "P = np.zeros((4, 1))\n",
    "P[0] = 1\n",
    "P[1] = 2\n",
    "P[2] = 0.5\n",
    "P[3] = 0.3\n"
   ]
  },
  {
   "cell_type": "code",
   "execution_count": 7,
   "metadata": {},
   "outputs": [
    {
     "name": "stdout",
     "output_type": "stream",
     "text": [
      "1.0\n"
     ]
    }
   ],
   "source": [
    "print(f'{position[0, 0]}')\n"
   ]
  },
  {
   "cell_type": "code",
   "execution_count": 8,
   "metadata": {},
   "outputs": [],
   "source": [
    "def make_square(A):\n",
    "    return A @ A.T\n"
   ]
  },
  {
   "cell_type": "code",
   "execution_count": 9,
   "metadata": {},
   "outputs": [
    {
     "name": "stdout",
     "output_type": "stream",
     "text": [
      "[[ 1. ]\n",
      " [ 3.4]\n",
      " [-1. ]\n",
      " [-3.4]]\n"
     ]
    }
   ],
   "source": [
    "x = make_square(position)@P\n",
    "print(f'{x}')\n"
   ]
  },
  {
   "cell_type": "markdown",
   "metadata": {},
   "source": [
    "## D"
   ]
  },
  {
   "cell_type": "code",
   "execution_count": 10,
   "metadata": {},
   "outputs": [],
   "source": [
    "def non_square_inverse(A):\n",
    "    return np.linalg.inv(A.T @ A) @ A.T\n"
   ]
  },
  {
   "cell_type": "code",
   "execution_count": 11,
   "metadata": {},
   "outputs": [
    {
     "name": "stdout",
     "output_type": "stream",
     "text": [
      "[[-1.2]\n",
      " [ 2.2]]\n"
     ]
    }
   ],
   "source": [
    "test = non_square_inverse(position)@x\n",
    "print(f'{test}')\n"
   ]
  },
  {
   "cell_type": "markdown",
   "metadata": {},
   "source": [
    "## F"
   ]
  },
  {
   "cell_type": "code",
   "execution_count": 12,
   "metadata": {},
   "outputs": [
    {
     "name": "stdout",
     "output_type": "stream",
     "text": [
      "T = 4.161730409336962\n"
     ]
    }
   ],
   "source": [
    "Pd = np.zeros((2, 1))\n",
    "Pd[0] = 0\n",
    "Pd[1] = 0.5\n",
    "\n",
    "T_b = x - position@Pd\n",
    "T_b = np.linalg.norm(T_b)\n",
    "print(f'T = {T_b}')\n"
   ]
  },
  {
   "cell_type": "markdown",
   "metadata": {},
   "source": [
    "## G"
   ]
  },
  {
   "cell_type": "code",
   "execution_count": 13,
   "metadata": {},
   "outputs": [],
   "source": [
    "def rotation_matrix(theta):\n",
    "    return np.array([[np.cos(theta), -np.sin(theta)],\n",
    "                     [np.sin(theta), np.cos(theta)]])\n",
    "\n",
    "\n",
    "def vector_rotation(theta, v):\n",
    "    return rotation_matrix(theta) @ v\n",
    "\n",
    "def multiple_vector_rotation(theta, v):\n",
    "    return np.array([vector_rotation(theta, v[i]) for i in range(len(v))])"
   ]
  },
  {
   "cell_type": "markdown",
   "metadata": {},
   "source": [
    "## I"
   ]
  },
  {
   "cell_type": "code",
   "execution_count": 15,
   "metadata": {},
   "outputs": [
    {
     "name": "stdout",
     "output_type": "stream",
     "text": [
      "[[-1.  1.]\n",
      " [-1. -1.]\n",
      " [ 1. -1.]\n",
      " [ 1.  1.]]\n"
     ]
    }
   ],
   "source": [
    "print(f'{multiple_vector_rotation(np.pi/2, position)}')"
   ]
  },
  {
   "cell_type": "code",
   "execution_count": 18,
   "metadata": {},
   "outputs": [
    {
     "data": {
      "image/png": "[encoded data removed]",
      "text/plain": [
       "<Figure size 432x288 with 1 Axes>"
      ]
     },
     "metadata": {
      "needs_background": "light"
     },
     "output_type": "display_data"
    }
   ],
   "source": [
    "theta = np.linspace(0,2*np.pi,200)\n",
    "k= np.array([]) \n",
    "for var in theta:\n",
    "    k = np.append(k, np.linalg.norm(make_square(multiple_vector_rotation(var, position))@P))\n",
    "    plt.plot(multiple_vector_rotation(var, position)[:,0], multiple_vector_rotation(var, position)[:,1], 'r')\n",
    "plt.plot(position[:,0], position[:,1], 'b')\n",
    "plt.show()"
   ]
  },
  {
   "cell_type": "code",
   "execution_count": 22,
   "metadata": {},
   "outputs": [
    {
     "data": {
      "text/plain": [
       "-1.7763568394002505e-15"
      ]
     },
     "execution_count": 22,
     "metadata": {},
     "output_type": "execute_result"
    }
   ],
   "source": [
    "min(k)-max(k)"
   ]
  }
 ],
 "metadata": {
  "kernelspec": {
   "display_name": "Python 3.9.12 ('base')",
   "language": "python",
   "name": "python3"
  },
  "language_info": {
   "codemirror_mode": {
    "name": "ipython",
    "version": 3
   },
   "file_extension": ".py",
   "mimetype": "text/x-python",
   "name": "python",
   "nbconvert_exporter": "python",
   "pygments_lexer": "ipython3",
   "version": "3.9.12"
  },
  "orig_nbformat": 4,
  "vscode": {
   "interpreter": {
    "hash": "b3ff5c1b5424807e928bf8bee38bc8a3478b3941c229b42d5add67274bc7395e"
   }
  }
 },
 "nbformat": 4,
 "nbformat_minor": 2
}
