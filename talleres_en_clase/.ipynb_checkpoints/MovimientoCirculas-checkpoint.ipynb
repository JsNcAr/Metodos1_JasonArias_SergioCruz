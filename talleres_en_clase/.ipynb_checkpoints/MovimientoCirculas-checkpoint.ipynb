{
 "cells": [
  {
   "cell_type": "code",
   "execution_count": 1,
   "metadata": {},
   "outputs": [],
   "source": [
    "%matplotlib inline\n",
    "import numpy as np\n",
    "import matplotlib.pyplot as plt\n",
    "import matplotlib.animation as anim"
   ]
  },
  {
   "cell_type": "markdown",
   "metadata": {},
   "source": [
    "$$ \\vec{r}(t) = Acos(\\omega t)i + Asin(\\omega t) j$$"
   ]
  },
  {
   "cell_type": "code",
   "execution_count": 2,
   "metadata": {},
   "outputs": [],
   "source": [
    "A = 1\n",
    "omega = 2*np.pi/10\n",
    "N = 200"
   ]
  },
  {
   "cell_type": "code",
   "execution_count": 3,
   "metadata": {},
   "outputs": [],
   "source": [
    "t = np.linspace(0, 10, N)\n",
    "r = np.zeros((N, 2))\n",
    "\n",
    "\n",
    "def get_position() -> np.ndarray:\n",
    "    r[:, 0] = A*np.cos(omega*t)\n",
    "    r[:, 1] = A*np.sin(omega*t)\n",
    "    return r\n",
    "\n",
    "\n",
    "r = get_position()\n"
   ]
  },
  {
   "cell_type": "code",
   "execution_count": 4,
   "metadata": {},
   "outputs": [
    {
     "data": {
      "image/png": "[encoded data removed]",
      "text/plain": [
       "<Figure size 576x576 with 1 Axes>"
      ]
     },
     "metadata": {
      "needs_background": "light"
     },
     "output_type": "display_data"
    }
   ],
   "source": [
    "fig = plt.figure(figsize=(8, 8))\n",
    "axl = fig.add_subplot(1, 1, 1)\n",
    "\n",
    "\n",
    "def init():\n",
    "    axl.set_xlim(-A, A)\n",
    "    axl.set_ylim(-A, A)\n",
    "    # return axl.plot(r[0, 0], r[0, 1], 'o')\n",
    "\n",
    "\n",
    "def update(i):\n",
    "    plot = axl.clear()\n",
    "    plot = axl.plot(t[:i], r[:i, 0])\n",
    "    return plot\n",
    "\n",
    "\n",
    "Animation = anim.FuncAnimation(fig, update, frames=N, init_func=init)\n"
   ]
  },
  {
   "cell_type": "code",
   "execution_count": null,
   "metadata": {},
   "outputs": [],
   "source": []
  }
 ],
 "metadata": {
  "kernelspec": {
   "display_name": "Python 3 (ipykernel)",
   "language": "python",
   "name": "python3"
  },
  "language_info": {
   "codemirror_mode": {
    "name": "ipython",
    "version": 3
   },
   "file_extension": ".py",
   "mimetype": "text/x-python",
   "name": "python",
   "nbconvert_exporter": "python",
   "pygments_lexer": "ipython3",
   "version": "3.9.12"
  },
  "vscode": {
   "interpreter": {
    "hash": "b3ff5c1b5424807e928bf8bee38bc8a3478b3941c229b42d5add67274bc7395e"
   }
  }
 },
 "nbformat": 4,
 "nbformat_minor": 2
}
