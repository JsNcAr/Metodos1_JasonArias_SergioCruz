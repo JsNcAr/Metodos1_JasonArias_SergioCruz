{
 "cells": [
  {
   "cell_type": "code",
   "execution_count": null,
   "metadata": {},
   "outputs": [],
   "source": [
    "import numpy as np\n",
    "import matplotlib.pyplot as plt\n",
    "import sympy as sp"
   ]
  },
  {
   "cell_type": "code",
   "execution_count": null,
   "metadata": {},
   "outputs": [],
   "source": [
    "def polinomial(x, a, b, c):\n",
    "    return a*x**2 + b*x + c"
   ]
  }
 ],
 "metadata": {
  "kernelspec": {
   "display_name": "Python 3.9.12 ('base')",
   "language": "python",
   "name": "python3"
  },
  "language_info": {
   "name": "python",
   "version": "3.9.12"
  },
  "orig_nbformat": 4,
  "vscode": {
   "interpreter": {
    "hash": "b3ff5c1b5424807e928bf8bee38bc8a3478b3941c229b42d5add67274bc7395e"
   }
  }
 },
 "nbformat": 4,
 "nbformat_minor": 2
}
