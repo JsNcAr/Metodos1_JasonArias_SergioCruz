{
 "cells": [
  {
   "cell_type": "code",
   "execution_count": 1,
   "metadata": {},
   "outputs": [],
   "source": [
    "%matplotlib inline\n",
    "import numpy as np\n",
    "import matplotlib.pyplot as plt\n",
    "import matplotlib.animation as anim"
   ]
  },
  {
   "cell_type": "markdown",
   "metadata": {},
   "source": [
    "$$ \\vec{r}(t) = Acos(\\omega t)i + Asin(\\omega t) j$$"
   ]
  },
  {
   "cell_type": "code",
   "execution_count": 2,
   "metadata": {},
   "outputs": [],
   "source": [
    "A = 1\n",
    "omega = 2*np.pi/10\n",
    "N = 200"
   ]
  },
  {
   "cell_type": "code",
   "execution_count": 3,
   "metadata": {},
   "outputs": [],
   "source": [
    "t = np.linspace(0, 10, N)\n",
    "r = np.zeros((N, 2))\n",
    "\n",
    "\n",
    "def get_position() -> np.ndarray:\n",
    "    r[:, 0] = A*np.cos(omega*t)\n",
    "    r[:, 1] = A*np.sin(omega*t)\n",
    "    return r\n",
    "\n",
    "\n",
    "def get_velocity() -> np.ndarray:\n",
    "    v = np.zeros((N, 2))\n",
    "    v[:, 0] = -A*omega*np.sin(omega*t)\n",
    "    v[:, 1] = A*omega*np.cos(omega*t)\n",
    "    return v\n",
    "\n",
    "r = get_position()\n",
    "v = get_velocity()\n"
   ]
  },
  {
   "cell_type": "code",
   "execution_count": 4,
   "metadata": {},
   "outputs": [
    {
     "data": {
      "image/png": "[encoded data removed]",
      "text/plain": [
       "<Figure size 576x576 with 2 Axes>"
      ]
     },
     "metadata": {
      "needs_background": "light"
     },
     "output_type": "display_data"
    }
   ],
   "source": [
    "fig = plt.figure(figsize=(8, 8))\n",
    "axl = fig.add_subplot(3, 2, 5)\n",
    "ax2 = fig.add_subplot(3, 2, 4)\n",
    "ax3 = fig.add_subplot(2, 1, 1)\n",
    "\n",
    "\n",
    "def init():\n",
    "    axl.set_ylim(-A, A)\n",
    "    ax2.set_ylim(-A, A)\n",
    "\n",
    "    ax3.set_ylim(-A, A)\n",
    "    ax3.set_xlim(-A, A)\n",
    "\n",
    "    ax3.set_aspect('equal')\n",
    "\n",
    "\n",
    "def update(i):\n",
    "    init()\n",
    "    plot = axl.clear()\n",
    "    plot = ax2.clear()\n",
    "    plot = axl.plot(t[:i], r[:i, 0])\n",
    "    plot = ax2.plot(t[:i], r[:i, 1])\n",
    "    return plot\n",
    "\n",
    "\n",
    "Animation = anim.FuncAnimation(fig, update, frames=N, init_func=init)\n"
   ]
  },
  {
   "cell_type": "code",
   "execution_count": 5,
   "metadata": {},
   "outputs": [
    {
     "ename": "NameError",
     "evalue": "name 'ax3' is not defined",
     "output_type": "error",
     "traceback": [
      "\u001b[0;31m---------------------------------------------------------------------------\u001b[0m",
      "\u001b[0;31mNameError\u001b[0m                                 Traceback (most recent call last)",
      "\u001b[1;32m/home/ramsus/Programming/Metodos1_JasonArias_SergioCruz/talleres_en_clase/MovimientoCirculas.ipynb Cell 6\u001b[0m in \u001b[0;36m<cell line: 2>\u001b[0;34m()\u001b[0m\n\u001b[1;32m      <a href='vscode-notebook-cell:/home/ramsus/Programming/Metodos1_JasonArias_SergioCruz/talleres_en_clase/MovimientoCirculas.ipynb#W6sZmlsZQ%3D%3D?line=0'>1</a>\u001b[0m writer \u001b[39m=\u001b[39m anim\u001b[39m.\u001b[39mwriters[\u001b[39m'\u001b[39m\u001b[39mffmpeg\u001b[39m\u001b[39m'\u001b[39m](fps\u001b[39m=\u001b[39m\u001b[39m15\u001b[39m)\n\u001b[0;32m----> <a href='vscode-notebook-cell:/home/ramsus/Programming/Metodos1_JasonArias_SergioCruz/talleres_en_clase/MovimientoCirculas.ipynb#W6sZmlsZQ%3D%3D?line=1'>2</a>\u001b[0m Animation\u001b[39m.\u001b[39;49msave(\u001b[39m'\u001b[39;49m\u001b[39mMovimientoCirculas.mp4\u001b[39;49m\u001b[39m'\u001b[39;49m, writer\u001b[39m=\u001b[39;49mwriter)\n",
      "File \u001b[0;32m~/anaconda3/lib/python3.9/site-packages/matplotlib/animation.py:1091\u001b[0m, in \u001b[0;36mAnimation.save\u001b[0;34m(self, filename, writer, fps, dpi, codec, bitrate, extra_args, metadata, extra_anim, savefig_kwargs, progress_callback)\u001b[0m\n\u001b[1;32m   1088\u001b[0m \u001b[39mfor\u001b[39;00m data \u001b[39min\u001b[39;00m \u001b[39mzip\u001b[39m(\u001b[39m*\u001b[39m[a\u001b[39m.\u001b[39mnew_saved_frame_seq() \u001b[39mfor\u001b[39;00m a \u001b[39min\u001b[39;00m all_anim]):\n\u001b[1;32m   1089\u001b[0m     \u001b[39mfor\u001b[39;00m anim, d \u001b[39min\u001b[39;00m \u001b[39mzip\u001b[39m(all_anim, data):\n\u001b[1;32m   1090\u001b[0m         \u001b[39m# TODO: See if turning off blit is really necessary\u001b[39;00m\n\u001b[0;32m-> 1091\u001b[0m         anim\u001b[39m.\u001b[39;49m_draw_next_frame(d, blit\u001b[39m=\u001b[39;49m\u001b[39mFalse\u001b[39;49;00m)\n\u001b[1;32m   1092\u001b[0m         \u001b[39mif\u001b[39;00m progress_callback \u001b[39mis\u001b[39;00m \u001b[39mnot\u001b[39;00m \u001b[39mNone\u001b[39;00m:\n\u001b[1;32m   1093\u001b[0m             progress_callback(frame_number, total_frames)\n",
      "File \u001b[0;32m~/anaconda3/lib/python3.9/site-packages/matplotlib/animation.py:1126\u001b[0m, in \u001b[0;36mAnimation._draw_next_frame\u001b[0;34m(self, framedata, blit)\u001b[0m\n\u001b[1;32m   1122\u001b[0m \u001b[39mdef\u001b[39;00m \u001b[39m_draw_next_frame\u001b[39m(\u001b[39mself\u001b[39m, framedata, blit):\n\u001b[1;32m   1123\u001b[0m     \u001b[39m# Breaks down the drawing of the next frame into steps of pre- and\u001b[39;00m\n\u001b[1;32m   1124\u001b[0m     \u001b[39m# post- draw, as well as the drawing of the frame itself.\u001b[39;00m\n\u001b[1;32m   1125\u001b[0m     \u001b[39mself\u001b[39m\u001b[39m.\u001b[39m_pre_draw(framedata, blit)\n\u001b[0;32m-> 1126\u001b[0m     \u001b[39mself\u001b[39;49m\u001b[39m.\u001b[39;49m_draw_frame(framedata)\n\u001b[1;32m   1127\u001b[0m     \u001b[39mself\u001b[39m\u001b[39m.\u001b[39m_post_draw(framedata, blit)\n",
      "File \u001b[0;32m~/anaconda3/lib/python3.9/site-packages/matplotlib/animation.py:1720\u001b[0m, in \u001b[0;36mFuncAnimation._draw_frame\u001b[0;34m(self, framedata)\u001b[0m\n\u001b[1;32m   1716\u001b[0m \u001b[39mself\u001b[39m\u001b[39m.\u001b[39m_save_seq \u001b[39m=\u001b[39m \u001b[39mself\u001b[39m\u001b[39m.\u001b[39m_save_seq[\u001b[39m-\u001b[39m\u001b[39mself\u001b[39m\u001b[39m.\u001b[39msave_count:]\n\u001b[1;32m   1718\u001b[0m \u001b[39m# Call the func with framedata and args. If blitting is desired,\u001b[39;00m\n\u001b[1;32m   1719\u001b[0m \u001b[39m# func needs to return a sequence of any artists that were modified.\u001b[39;00m\n\u001b[0;32m-> 1720\u001b[0m \u001b[39mself\u001b[39m\u001b[39m.\u001b[39m_drawn_artists \u001b[39m=\u001b[39m \u001b[39mself\u001b[39;49m\u001b[39m.\u001b[39;49m_func(framedata, \u001b[39m*\u001b[39;49m\u001b[39mself\u001b[39;49m\u001b[39m.\u001b[39;49m_args)\n\u001b[1;32m   1722\u001b[0m \u001b[39mif\u001b[39;00m \u001b[39mself\u001b[39m\u001b[39m.\u001b[39m_blit:\n\u001b[1;32m   1724\u001b[0m     err \u001b[39m=\u001b[39m \u001b[39mRuntimeError\u001b[39;00m(\u001b[39m'\u001b[39m\u001b[39mThe animation function must return a sequence \u001b[39m\u001b[39m'\u001b[39m\n\u001b[1;32m   1725\u001b[0m                        \u001b[39m'\u001b[39m\u001b[39mof Artist objects.\u001b[39m\u001b[39m'\u001b[39m)\n",
      "\u001b[1;32m/home/ramsus/Programming/Metodos1_JasonArias_SergioCruz/talleres_en_clase/MovimientoCirculas.ipynb Cell 6\u001b[0m in \u001b[0;36mupdate\u001b[0;34m(i)\u001b[0m\n\u001b[1;32m     <a href='vscode-notebook-cell:/home/ramsus/Programming/Metodos1_JasonArias_SergioCruz/talleres_en_clase/MovimientoCirculas.ipynb#W6sZmlsZQ%3D%3D?line=12'>13</a>\u001b[0m plot \u001b[39m=\u001b[39m axl\u001b[39m.\u001b[39mclear()\n\u001b[1;32m     <a href='vscode-notebook-cell:/home/ramsus/Programming/Metodos1_JasonArias_SergioCruz/talleres_en_clase/MovimientoCirculas.ipynb#W6sZmlsZQ%3D%3D?line=13'>14</a>\u001b[0m plot \u001b[39m=\u001b[39m ax2\u001b[39m.\u001b[39mclear()\n\u001b[0;32m---> <a href='vscode-notebook-cell:/home/ramsus/Programming/Metodos1_JasonArias_SergioCruz/talleres_en_clase/MovimientoCirculas.ipynb#W6sZmlsZQ%3D%3D?line=14'>15</a>\u001b[0m plot \u001b[39m=\u001b[39m ax3\u001b[39m.\u001b[39mclear()\n\u001b[1;32m     <a href='vscode-notebook-cell:/home/ramsus/Programming/Metodos1_JasonArias_SergioCruz/talleres_en_clase/MovimientoCirculas.ipynb#W6sZmlsZQ%3D%3D?line=15'>16</a>\u001b[0m plot \u001b[39m=\u001b[39m axl\u001b[39m.\u001b[39mplot(t[:i], r[:i, \u001b[39m0\u001b[39m])\n\u001b[1;32m     <a href='vscode-notebook-cell:/home/ramsus/Programming/Metodos1_JasonArias_SergioCruz/talleres_en_clase/MovimientoCirculas.ipynb#W6sZmlsZQ%3D%3D?line=16'>17</a>\u001b[0m plot \u001b[39m=\u001b[39m ax2\u001b[39m.\u001b[39mplot(t[:i], r[:i, \u001b[39m1\u001b[39m])\n",
      "\u001b[0;31mNameError\u001b[0m: name 'ax3' is not defined"
     ]
    }
   ],
   "source": [
    "writer = anim.writers['ffmpeg'](fps=15)\n",
    "Animation.save('MovimientoCirculas.mp4', writer=writer)"
   ]
  }
 ],
 "metadata": {
  "kernelspec": {
   "display_name": "Python 3.9.12 ('base')",
   "language": "python",
   "name": "python3"
  },
  "language_info": {
   "codemirror_mode": {
    "name": "ipython",
    "version": 3
   },
   "file_extension": ".py",
   "mimetype": "text/x-python",
   "name": "python",
   "nbconvert_exporter": "python",
   "pygments_lexer": "ipython3",
   "version": "3.9.12"
  },
  "orig_nbformat": 4,
  "vscode": {
   "interpreter": {
    "hash": "b3ff5c1b5424807e928bf8bee38bc8a3478b3941c229b42d5add67274bc7395e"
   }
  }
 },
 "nbformat": 4,
 "nbformat_minor": 2
}
