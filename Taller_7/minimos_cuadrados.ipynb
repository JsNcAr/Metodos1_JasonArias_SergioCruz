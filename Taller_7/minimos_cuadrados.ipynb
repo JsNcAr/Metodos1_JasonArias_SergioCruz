{
 "cells": [
  {
   "cell_type": "code",
   "execution_count": 1,
   "metadata": {},
   "outputs": [],
   "source": [
    "import numpy as np\n",
    "import matplotlib.pyplot as plt\n",
    "from scipy.optimize import curve_fit\n",
    "import pandas as pd\n",
    "import sympy as sym\n",
    "from sympy import init_printing\n",
    "from scipy.interpolate import make_interp_spline\n"
   ]
  },
  {
   "cell_type": "markdown",
   "metadata": {},
   "source": [
    "## Punto 1"
   ]
  },
  {
   "cell_type": "markdown",
   "metadata": {},
   "source": [
    "## Punto 6"
   ]
  },
  {
   "cell_type": "markdown",
   "metadata": {},
   "source": [
    "## Punto 7"
   ]
  },
  {
   "cell_type": "code",
   "execution_count": 2,
   "metadata": {},
   "outputs": [],
   "source": [
    "data = pd.read_csv('Sigmoid.csv')\n"
   ]
  },
  {
   "cell_type": "code",
   "execution_count": 3,
   "metadata": {},
   "outputs": [],
   "source": [
    "def fit_model(x, a, b, c):\n",
    "    return a / (b + np.exp(-c * x))\n",
    "\n",
    "\n",
    "def sym_fit(x, a, b, c):\n",
    "    return a / (b + sym.exp(-c * x))\n",
    "\n",
    "\n",
    "def cost_function(x, y, a, b, c):\n",
    "    return np.sum((y - fit_model(x, a, b, c))**2)\n",
    "\n",
    "\n",
    "def symbolic_cost_function(x, y, a, b, c):\n",
    "    return sym.Sum((y - sym_fit(x, a, b, c))**2, (x, 0, len(data['x'])))\n",
    "\n",
    "\n",
    "def partial_symbolic_derivative():\n",
    "    x = sym.symbols('x')\n",
    "    y = sym.symbols('y')\n",
    "    a = sym.symbols('theta_0')\n",
    "    b = sym.symbols('theta_1')\n",
    "    c = sym.symbols('theta_2')\n",
    "    sym_cost = symbolic_cost_function(x, y, a, b, c)\n",
    "    return sym.diff(sym_cost, a), sym.diff(sym_cost, b), sym.diff(sym_cost, c)\n"
   ]
  },
  {
   "cell_type": "code",
   "execution_count": 4,
   "metadata": {},
   "outputs": [
    {
     "data": {
      "image/png": "[encoded data removed]",
      "text/latex": [
       "$\\displaystyle \\left( \\sum_{x=0}^{50} - \\frac{2 \\left(- \\frac{\\theta_{0}}{\\theta_{1} + e^{- \\theta_{2} x}} + y\\right)}{\\theta_{1} + e^{- \\theta_{2} x}}, \\  \\sum_{x=0}^{50} \\frac{2 \\theta_{0} \\left(- \\frac{\\theta_{0}}{\\theta_{1} + e^{- \\theta_{2} x}} + y\\right)}{\\left(\\theta_{1} + e^{- \\theta_{2} x}\\right)^{2}}, \\  \\sum_{x=0}^{50} - \\frac{2 \\theta_{0} x \\left(- \\frac{\\theta_{0}}{\\theta_{1} + e^{- \\theta_{2} x}} + y\\right) e^{- \\theta_{2} x}}{\\left(\\theta_{1} + e^{- \\theta_{2} x}\\right)^{2}}\\right)$"
      ],
      "text/plain": [
       "⎛  50                              50                               50        \n",
       "⎜______                          ______                           ______      \n",
       "⎜╲                               ╲                                ╲           \n",
       "⎜ ╲                               ╲          ⎛       θ₀        ⎞   ╲          \n",
       "⎜  ╲       ⎛       θ₀        ⎞     ╲    2⋅θ₀⋅⎜- ─────────── + y⎟    ╲    -2⋅θ₀\n",
       "⎜   ╲   -2⋅⎜- ─────────── + y⎟      ╲        ⎜        -θ₂⋅x    ⎟     ╲        \n",
       "⎜    ╲     ⎜        -θ₂⋅x    ⎟       ╲       ⎝  θ₁ + ℯ         ⎠      ╲       \n",
       "⎜    ╱     ⎝  θ₁ + ℯ         ⎠ ,     ╱  ────────────────────────,     ╱  ─────\n",
       "⎜   ╱   ───────────────────────     ╱                     2          ╱        \n",
       "⎜  ╱                -θ₂⋅x          ╱         ⎛      -θ₂⋅x⎞          ╱         \n",
       "⎜ ╱           θ₁ + ℯ              ╱          ⎝θ₁ + ℯ     ⎠         ╱          \n",
       "⎜╱                               ╱                                ╱           \n",
       "⎜‾‾‾‾‾‾                          ‾‾‾‾‾‾                           ‾‾‾‾‾‾      \n",
       "⎝x = 0                           x = 0                            x = 0       \n",
       "\n",
       "                              ⎞\n",
       "                              ⎟\n",
       "                              ⎟\n",
       "   ⎛       θ₀        ⎞  -θ₂⋅x ⎟\n",
       "⋅x⋅⎜- ─────────── + y⎟⋅ℯ      ⎟\n",
       "   ⎜        -θ₂⋅x    ⎟        ⎟\n",
       "   ⎝  θ₁ + ℯ         ⎠        ⎟\n",
       "──────────────────────────────⎟\n",
       "                   2          ⎟\n",
       "      ⎛      -θ₂⋅x⎞           ⎟\n",
       "      ⎝θ₁ + ℯ     ⎠           ⎟\n",
       "                              ⎟\n",
       "                              ⎟\n",
       "                              ⎠"
      ]
     },
     "execution_count": 4,
     "metadata": {},
     "output_type": "execute_result"
    }
   ],
   "source": [
    "init_printing(use_latex=True)\n",
    "\n",
    "partial_symbolic_derivative()\n"
   ]
  },
  {
   "cell_type": "markdown",
   "metadata": {},
   "source": [
    "<img src=\"https://i.lensdump.com/i/1htIk1.jpg\" alt=\"1htIk1.jpg\" border=\"0\" />"
   ]
  },
  {
   "cell_type": "code",
   "execution_count": 5,
   "metadata": {},
   "outputs": [],
   "source": [
    "def partial_derivative(x, y, a, b, c):\n",
    "    partial_a = 0\n",
    "    partial_b = 0\n",
    "    partial_c = 0\n",
    "    for i in range(len(x)):\n",
    "        partial_a += 2 * \\\n",
    "            (a / (b + np.exp(-c * x[i])) - y[i]) / (b + np.exp(-c * x[i]))\n",
    "        partial_b += 2 * \\\n",
    "            (a / (b + np.exp(-c * x[i])) - y[i]) * a * \\\n",
    "            np.exp(-c * x[i]) / (b + np.exp(-c * x[i]))**2\n",
    "        partial_c += 2 * (a / (b + np.exp(-c * x[i])) - y[i]) * \\\n",
    "            a * x[i] * np.exp(-c * x[i]) / (b + np.exp(-c * x[i]))**2\n",
    "    return partial_a, partial_b, partial_c\n",
    "\n",
    "\n",
    "def gradient_descent(x, y, a, b, c, learning_rate, iterations, e):\n",
    "    for i in range(iterations):\n",
    "        partial_a, partial_b, partial_c = partial_derivative(x, y, a, b, c)\n",
    "        a = a - learning_rate * partial_a\n",
    "        b = b - learning_rate * partial_b\n",
    "        c = c - learning_rate * partial_c\n",
    "        if (abs(partial_a) < e) and (abs(partial_b) < e) and (abs(partial_c) < e):\n",
    "            break\n",
    "    return a, b, c, i\n"
   ]
  },
  {
   "cell_type": "code",
   "execution_count": 6,
   "metadata": {},
   "outputs": [],
   "source": [
    "model = gradient_descent(data['x'], data['y'], 1, 1, 1, 0.0005, 10000, 0.01)\n"
   ]
  },
  {
   "cell_type": "code",
   "execution_count": 7,
   "metadata": {},
   "outputs": [
    {
     "data": {
      "image/png": "[encoded data removed]",
      "text/plain": [
       "<Figure size 720x720 with 1 Axes>"
      ]
     },
     "metadata": {
      "needs_background": "light"
     },
     "output_type": "display_data"
    }
   ],
   "source": [
    "fig = plt.figure(figsize=(10, 10))\n",
    "ax = fig.add_subplot(111)\n",
    "y_model = np.sort(fit_model(data['x'], model[0], model[1], model[2]))\n",
    "\n",
    "x = np.linspace(data['x'].min(), data['x'].max(), 500)\n",
    "y_model = fit_model(x, model[0], model[1], model[2])\n",
    "\n",
    "ax.scatter(data['x'], data['y'], label='Datos')\n",
    "ax.plot(x, y_model, label='Modelo', color='red', linestyle='dashed')\n",
    "ax.set_xlabel('x')\n",
    "ax.set_ylabel('y')\n",
    "ax.legend()\n",
    "plt.show()\n"
   ]
  },
  {
   "cell_type": "markdown",
   "metadata": {},
   "source": [
    "## Punto 8"
   ]
  },
  {
   "cell_type": "code",
   "execution_count": null,
   "metadata": {},
   "outputs": [],
   "source": []
  }
 ],
 "metadata": {
  "kernelspec": {
   "display_name": "Python 3.9.12 ('base')",
   "language": "python",
   "name": "python3"
  },
  "language_info": {
   "codemirror_mode": {
    "name": "ipython",
    "version": 3
   },
   "file_extension": ".py",
   "mimetype": "text/x-python",
   "name": "python",
   "nbconvert_exporter": "python",
   "pygments_lexer": "ipython3",
   "version": "3.9.12"
  },
  "orig_nbformat": 4,
  "vscode": {
   "interpreter": {
    "hash": "b3ff5c1b5424807e928bf8bee38bc8a3478b3941c229b42d5add67274bc7395e"
   }
  }
 },
 "nbformat": 4,
 "nbformat_minor": 2
}
