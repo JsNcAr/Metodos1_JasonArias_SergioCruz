{
 "cells": [
  {
   "cell_type": "code",
   "execution_count": 1,
   "metadata": {},
   "outputs": [],
   "source": [
    "import numpy as np\n",
    "import matplotlib.pyplot as plt\n",
    "import random as rd"
   ]
  },
  {
   "cell_type": "markdown",
   "metadata": {},
   "source": [
    "Punto 6"
   ]
  },
  {
   "cell_type": "code",
   "execution_count": 2,
   "metadata": {},
   "outputs": [],
   "source": [
    "N = 10**4\n",
    "lista = np.random.rand(N+35)"
   ]
  },
  {
   "cell_type": "code",
   "execution_count": 3,
   "metadata": {},
   "outputs": [],
   "source": [
    "k = 30\n",
    "c = []\n",
    "for k in range(k):\n",
    "    a = 0.\n",
    "    for i in range(N):\n",
    "        a += lista[i]*lista[i+k]\n",
    "    a *= 1/N\n",
    "    c.append(a)"
   ]
  },
  {
   "cell_type": "code",
   "execution_count": 4,
   "metadata": {},
   "outputs": [
    {
     "data": {
      "image/png": "[encoded data removed]",
      "text/plain": [
       "<Figure size 432x288 with 1 Axes>"
      ]
     },
     "metadata": {
      "needs_background": "light"
     },
     "output_type": "display_data"
    }
   ],
   "source": [
    "puntos = np.linspace(1,30,30)\n",
    "fig, ax = plt.subplots()\n",
    "\n",
    "plt.plot(puntos,c)\n",
    "\n",
    "ax.set_title('Generador Numpy')\n",
    "ax.set_xlabel('k-esimo vecino', fontsize=10)\n",
    "ax.set_ylabel('C(k)', fontsize=10)\n",
    "plt.ylim(0.20,0.30)\n",
    "ax.grid()"
   ]
  },
  {
   "cell_type": "markdown",
   "metadata": {},
   "source": [
    "Punto 8"
   ]
  },
  {
   "cell_type": "code",
   "execution_count": 6,
   "metadata": {},
   "outputs": [
    {
     "name": "stdout",
     "output_type": "stream",
     "text": [
      "El valor de la integral hallado con Monte-Carlo es 11.381401601693094\n",
      "El valor real de la integral es 9.02619566197592\n"
     ]
    }
   ],
   "source": [
    "F=lambda x,y,z:np.exp(np.sqrt(x**2+y**2+z**2))\n",
    "vmin,vmax=-1,1\n",
    "fmin,fmax=1,np.e\n",
    "Nmax=1000000\n",
    "N=0\n",
    "M=0\n",
    "rd.seed(65)\n",
    "while N<Nmax-1:\n",
    "    x=rd.uniform(vmin,vmax)\n",
    "    y=rd.uniform(vmin,vmax)\n",
    "    z=rd.uniform(vmin,vmax)\n",
    "    f=rd.uniform(fmin,fmax)\n",
    "    N+=1\n",
    "    if f<F(x,y,z):\n",
    "        M+=1\n",
    "        \n",
    "        \n",
    "integ = 4*np.pi*(np.e-2)\n",
    "\n",
    "        \n",
    "print(\"El valor de la integral hallado con Monte-Carlo es {0}\".format(((vmax-vmin)**3)*(fmax-fmin)*M/N))\n",
    "print(\"El valor real de la integral es {0}\".format(integ))"
   ]
  },
  {
   "cell_type": "code",
   "execution_count": null,
   "metadata": {},
   "outputs": [],
   "source": []
  }
 ],
 "metadata": {
  "kernelspec": {
   "display_name": "Python 3.9.12 ('base')",
   "language": "python",
   "name": "python3"
  },
  "language_info": {
   "codemirror_mode": {
    "name": "ipython",
    "version": 3
   },
   "file_extension": ".py",
   "mimetype": "text/x-python",
   "name": "python",
   "nbconvert_exporter": "python",
   "pygments_lexer": "ipython3",
   "version": "3.9.12"
  },
  "orig_nbformat": 4,
  "vscode": {
   "interpreter": {
    "hash": "ad2bdc8ecc057115af97d19610ffacc2b4e99fae6737bb82f5d7fb13d2f2c186"
   }
  }
 },
 "nbformat": 4,
 "nbformat_minor": 2
}
