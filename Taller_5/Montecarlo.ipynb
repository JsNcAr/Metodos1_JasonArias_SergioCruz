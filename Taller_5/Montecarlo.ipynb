{
 "cells": [
  {
   "cell_type": "code",
   "execution_count": 1,
   "metadata": {},
   "outputs": [],
   "source": [
    "import numpy as np\n",
    "import matplotlib.pyplot as plt\n",
    "import random as rd\n"
   ]
  },
  {
   "cell_type": "markdown",
   "metadata": {},
   "source": [
    "## Punto 4"
   ]
  },
  {
   "cell_type": "code",
   "execution_count": 2,
   "metadata": {},
   "outputs": [],
   "source": [
    "N = 10**4\n",
    "lista = np.random.rand(N+35)\n"
   ]
  },
  {
   "cell_type": "code",
   "execution_count": 3,
   "metadata": {},
   "outputs": [],
   "source": [
    "k = 30\n",
    "c = []\n",
    "for k in range(k):\n",
    "    a = 0.\n",
    "    for i in range(N):\n",
    "        a += lista[i]*lista[i+k]\n",
    "    a *= 1/N\n",
    "    c.append(a)\n"
   ]
  },
  {
   "cell_type": "code",
   "execution_count": 4,
   "metadata": {},
   "outputs": [
    {
     "data": {
      "image/png": "[encoded data removed]",
      "text/plain": [
       "<Figure size 432x288 with 1 Axes>"
      ]
     },
     "metadata": {
      "needs_background": "light"
     },
     "output_type": "display_data"
    }
   ],
   "source": [
    "puntos = np.linspace(1, 30, 30)\n",
    "fig, ax = plt.subplots()\n",
    "\n",
    "plt.plot(puntos, c)\n",
    "\n",
    "ax.set_title('Generador Numpy')\n",
    "ax.set_xlabel('k-esimo vecino', fontsize=10)\n",
    "ax.set_ylabel('C(k)', fontsize=10)\n",
    "plt.ylim(0.20, 0.30)\n",
    "ax.grid()\n"
   ]
  },
  {
   "cell_type": "markdown",
   "metadata": {},
   "source": [
    "## Punto 6"
   ]
  },
  {
   "cell_type": "code",
   "execution_count": 5,
   "metadata": {},
   "outputs": [
    {
     "name": "stdout",
     "output_type": "stream",
     "text": [
      "El valor de la integral hallado con Monte-Carlo es 11.381401601693094\n",
      "El valor real de la integral es 9.02619566197592\n"
     ]
    }
   ],
   "source": [
    "def F(x, y, z): return np.exp(np.sqrt(x**2+y**2+z**2))\n",
    "\n",
    "\n",
    "vmin, vmax = -1, 1\n",
    "fmin, fmax = 1, np.e\n",
    "Nmax = 1000000\n",
    "N = 0\n",
    "M = 0\n",
    "rd.seed(65)\n",
    "while N < Nmax-1:\n",
    "    x = rd.uniform(vmin, vmax)\n",
    "    y = rd.uniform(vmin, vmax)\n",
    "    z = rd.uniform(vmin, vmax)\n",
    "    f = rd.uniform(fmin, fmax)\n",
    "    N += 1\n",
    "    if f < F(x, y, z):\n",
    "        M += 1\n",
    "\n",
    "\n",
    "integ = 4*np.pi*(np.e-2)\n",
    "\n",
    "\n",
    "print(\"El valor de la integral hallado con Monte-Carlo es {0}\".format(\n",
    "    ((vmax-vmin)**3)*(fmax-fmin)*M/N))\n",
    "print(\"El valor real de la integral es {0}\".format(integ))\n"
   ]
  },
  {
   "cell_type": "markdown",
   "metadata": {},
   "source": [
    "## Punto 8"
   ]
  },
  {
   "cell_type": "code",
   "execution_count": 6,
   "metadata": {},
   "outputs": [],
   "source": [
    "def beta_distribution(x, a, b):\n",
    "    return (x**(a-1)*(1-x)**(b-1))/(np.math.gamma(a)*np.math.gamma(b)/np.math.gamma(a+b))\n",
    "\n",
    "\n",
    "def metodo_aceptacion_rechazo(N, a, b):\n",
    "    x = np.linspace(0, 1, 10000)\n",
    "    y = beta_distribution(x, a, b)\n",
    "    ymax = np.max(y)\n",
    "    x_aceptados = []\n",
    "    y_aceptados = []\n",
    "    S = 0\n",
    "    while len(x_aceptados) < N:\n",
    "        x_aleatorio = rd.uniform(0, 1)\n",
    "        y_aleatorio = rd.uniform(0, ymax)\n",
    "        if y_aleatorio < beta_distribution(x_aleatorio, a, b):\n",
    "            x_aceptados.append(x_aleatorio)\n",
    "            y_aceptados.append(y_aleatorio)\n",
    "            S += 1\n",
    "    return (S/N), x_aceptados, y_aceptados\n",
    "\n",
    "\n",
    "def integral_aceptacion_rechazo(N, a, b):\n",
    "    S, x, y = metodo_aceptacion_rechazo(N, a, b)\n",
    "    return S\n"
   ]
  },
  {
   "cell_type": "code",
   "execution_count": 7,
   "metadata": {},
   "outputs": [
    {
     "name": "stdout",
     "output_type": "stream",
     "text": [
      "El valor de la integral hallado con el método de aceptación y rechazo es 1.0\n"
     ]
    }
   ],
   "source": [
    "print(\n",
    "    f'El valor de la integral hallado con el método de aceptación y rechazo es {integral_aceptacion_rechazo(10000, 2, 4)}')\n"
   ]
  },
  {
   "cell_type": "markdown",
   "metadata": {},
   "source": [
    "## Punto 9"
   ]
  },
  {
   "cell_type": "code",
   "execution_count": 8,
   "metadata": {},
   "outputs": [],
   "source": [
    "def montecarlo_integral_8(f, a, b, N):\n",
    "    I = 0\n",
    "    for i in range(N):\n",
    "        x1 = rd.uniform(a, b)\n",
    "        x2 = rd.uniform(a, b)\n",
    "        x3 = rd.uniform(a, b)\n",
    "        x4 = rd.uniform(a, b)\n",
    "        x5 = rd.uniform(a, b)\n",
    "        x6 = rd.uniform(a, b)\n",
    "        x7 = rd.uniform(a, b)\n",
    "        x8 = rd.uniform(a, b)\n",
    "        I += f(x1, x2, x3, x4, x5, x6, x7, x8)\n",
    "    return (b-a)*I/N\n"
   ]
  },
  {
   "cell_type": "code",
   "execution_count": 9,
   "metadata": {},
   "outputs": [],
   "source": [
    "def f(x1, x2, x3, x4, x5, x6, x7, x8):\n",
    "    return pow(2, -7)*(x1+x2+x3+x4+x5+x6+x7+x8)**2\n"
   ]
  },
  {
   "cell_type": "code",
   "execution_count": 10,
   "metadata": {},
   "outputs": [],
   "source": [
    "integral = montecarlo_integral_8(f, 0, 1, 1000000)\n",
    "teo = 25/192\n"
   ]
  },
  {
   "cell_type": "code",
   "execution_count": 11,
   "metadata": {},
   "outputs": [
    {
     "name": "stdout",
     "output_type": "stream",
     "text": [
      "El valor de la integral es 0.1302\n",
      "El valor teórico de la integral es 0.1302\n"
     ]
    }
   ],
   "source": [
    "print(f'El valor de la integral es {round(integral, 4)}')\n",
    "print(f'El valor teórico de la integral es {round(teo, 4)}')\n"
   ]
  }
 ],
 "metadata": {
  "kernelspec": {
   "display_name": "Python 3.9.12 ('base')",
   "language": "python",
   "name": "python3"
  },
  "language_info": {
   "codemirror_mode": {
    "name": "ipython",
    "version": 3
   },
   "file_extension": ".py",
   "mimetype": "text/x-python",
   "name": "python",
   "nbconvert_exporter": "python",
   "pygments_lexer": "ipython3",
   "version": "3.9.12"
  },
  "orig_nbformat": 4,
  "vscode": {
   "interpreter": {
    "hash": "b3ff5c1b5424807e928bf8bee38bc8a3478b3941c229b42d5add67274bc7395e"
   }
  }
 },
 "nbformat": 4,
 "nbformat_minor": 2
}
