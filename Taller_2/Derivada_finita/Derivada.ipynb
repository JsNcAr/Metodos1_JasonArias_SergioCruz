{
 "cells": [
  {
   "cell_type": "markdown",
   "metadata": {},
   "source": [
    "# Taller 2 Metodos Computacionales 1"
   ]
  },
  {
   "cell_type": "code",
   "execution_count": 18,
   "metadata": {},
   "outputs": [],
   "source": [
    "import numpy as np\n",
    "import matplotlib.pyplot as plt\n"
   ]
  },
  {
   "cell_type": "markdown",
   "metadata": {},
   "source": [
    "## Derivada finita\n",
    "### 1)  \n",
    "<img src=\"https://i.lensdump.com/i/1sFARF.jpg\" alt=\"Demostration\" width=\"450\"/> "
   ]
  },
  {
   "cell_type": "code",
   "execution_count": 19,
   "metadata": {},
   "outputs": [],
   "source": [
    "h = 0.05\n",
    "x = np.arange(-10, 10, h)\n"
   ]
  },
  {
   "cell_type": "code",
   "execution_count": 20,
   "metadata": {},
   "outputs": [
    {
     "data": {
      "text/plain": [
       "0.05000000000000071"
      ]
     },
     "execution_count": 20,
     "metadata": {},
     "output_type": "execute_result"
    }
   ],
   "source": [
    "x[1]-x[0]\n"
   ]
  },
  {
   "cell_type": "code",
   "execution_count": 21,
   "metadata": {},
   "outputs": [],
   "source": [
    "def expo(x): \n",
    "    return (1 + np.exp(-x**2))**(-1/2)\n"
   ]
  },
  {
   "cell_type": "code",
   "execution_count": 22,
   "metadata": {},
   "outputs": [],
   "source": [
    "def comparacion(x): \n",
    "    return (x*np.exp(-x**2))/(np.exp(-x**2)+1)**(3/2)\n"
   ]
  },
  {
   "cell_type": "code",
   "execution_count": 23,
   "metadata": {},
   "outputs": [],
   "source": [
    "def DerivativeC(x, f, h):\n",
    "    return (f(x+h)-f(x-h))/(2*h)\n"
   ]
  },
  {
   "cell_type": "code",
   "execution_count": 24,
   "metadata": {},
   "outputs": [],
   "source": [
    "DerivadaC = DerivativeC(x, expo, h)\n",
    "\n",
    "teorica = comparacion(x)\n"
   ]
  },
  {
   "cell_type": "code",
   "execution_count": 25,
   "metadata": {},
   "outputs": [
    {
     "data": {
      "text/plain": [
       "[<matplotlib.lines.Line2D at 0x1f68de43ca0>]"
      ]
     },
     "execution_count": 25,
     "metadata": {},
     "output_type": "execute_result"
    },
    {
     "data": {
      "image/png": "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",
      "text/plain": [
       "<Figure size 432x288 with 1 Axes>"
      ]
     },
     "metadata": {
      "needs_background": "light"
     },
     "output_type": "display_data"
    }
   ],
   "source": [
    "plt.plot(x, DerivadaC)\n",
    "plt.plot(x, teorica)\n"
   ]
  },
  {
   "cell_type": "code",
   "execution_count": 26,
   "metadata": {},
   "outputs": [],
   "source": [
    "ErrorNodal = np.abs(DerivadaC-teorica)\n"
   ]
  },
  {
   "cell_type": "code",
   "execution_count": 27,
   "metadata": {},
   "outputs": [
    {
     "name": "stdout",
     "output_type": "stream",
     "text": [
      "[3.72007598e-43 1.00365311e-42 2.69421980e-42 7.19614424e-42\n",
      " 1.91242333e-41 5.05691239e-41 1.33046646e-40 3.48288730e-40\n",
      " 9.07176478e-40 2.35104470e-39]\n"
     ]
    }
   ],
   "source": [
    "print(ErrorNodal[:10])\n"
   ]
  },
  {
   "cell_type": "code",
   "execution_count": 28,
   "metadata": {},
   "outputs": [],
   "source": [
    "M = np.array([-1, 0, 1])\n"
   ]
  },
  {
   "cell_type": "code",
   "execution_count": 29,
   "metadata": {},
   "outputs": [],
   "source": [
    "\n",
    "def covolucion():\n",
    "    x = np.linspace(-10, 10, int(20/h))\n",
    "    y = np.zeros(len(x))\n",
    "    for i in range(1, len(x)-1):\n",
    "        resul = np.array([expo(x[i-1]), expo(x[i]), expo(x[i+1])])\n",
    "        y[i] = np.dot((resul/2*h), M)\n",
    "    return y\n"
   ]
  },
  {
   "cell_type": "code",
   "execution_count": 30,
   "metadata": {},
   "outputs": [],
   "source": [
    "probar = covolucion()\n"
   ]
  },
  {
   "cell_type": "code",
   "execution_count": 31,
   "metadata": {},
   "outputs": [
    {
     "data": {
      "text/plain": [
       "array([ 0.00000000e+00,  0.00000000e+00,  0.00000000e+00,  0.00000000e+00,\n",
       "        0.00000000e+00,  0.00000000e+00,  0.00000000e+00,  0.00000000e+00,\n",
       "        0.00000000e+00,  0.00000000e+00,  0.00000000e+00,  0.00000000e+00,\n",
       "        0.00000000e+00,  0.00000000e+00,  0.00000000e+00,  0.00000000e+00,\n",
       "        0.00000000e+00,  0.00000000e+00,  0.00000000e+00,  0.00000000e+00,\n",
       "        0.00000000e+00,  0.00000000e+00,  0.00000000e+00,  0.00000000e+00,\n",
       "        0.00000000e+00,  0.00000000e+00,  0.00000000e+00,  0.00000000e+00,\n",
       "        0.00000000e+00,  0.00000000e+00,  0.00000000e+00,  0.00000000e+00,\n",
       "        0.00000000e+00,  0.00000000e+00,  0.00000000e+00,  0.00000000e+00,\n",
       "        0.00000000e+00,  0.00000000e+00,  0.00000000e+00,  0.00000000e+00,\n",
       "        0.00000000e+00,  0.00000000e+00,  0.00000000e+00,  0.00000000e+00,\n",
       "        0.00000000e+00,  0.00000000e+00,  0.00000000e+00,  0.00000000e+00,\n",
       "        0.00000000e+00,  0.00000000e+00,  0.00000000e+00,  0.00000000e+00,\n",
       "        0.00000000e+00,  0.00000000e+00,  0.00000000e+00,  0.00000000e+00,\n",
       "        0.00000000e+00,  0.00000000e+00,  0.00000000e+00,  0.00000000e+00,\n",
       "        0.00000000e+00,  0.00000000e+00,  0.00000000e+00,  0.00000000e+00,\n",
       "        0.00000000e+00,  0.00000000e+00,  0.00000000e+00,  0.00000000e+00,\n",
       "        0.00000000e+00,  0.00000000e+00,  0.00000000e+00,  0.00000000e+00,\n",
       "        0.00000000e+00,  0.00000000e+00,  0.00000000e+00,  0.00000000e+00,\n",
       "        0.00000000e+00,  0.00000000e+00, -3.46944695e-18, -3.46944695e-18,\n",
       "       -3.46944695e-18, -6.93889390e-18, -1.38777878e-17, -2.42861287e-17,\n",
       "       -4.16333634e-17, -7.63278329e-17, -1.31838984e-16, -2.28983499e-16,\n",
       "       -3.98986399e-16, -6.93889390e-16, -1.19002030e-15, -2.03309591e-15,\n",
       "       -3.46944695e-15, -5.88071258e-15, -9.91220994e-15, -1.66290592e-14,\n",
       "       -2.77521062e-14, -4.60777250e-14, -7.61161967e-14, -1.25090910e-13,\n",
       "       -2.04527367e-13, -3.32713024e-13, -5.38465106e-13, -8.66997446e-13,\n",
       "       -1.38885431e-12, -2.21344471e-12, -3.50956070e-12, -5.53615140e-12,\n",
       "       -8.68828620e-12, -1.35652947e-11, -2.10713461e-11, -3.25628552e-11,\n",
       "       -5.00631654e-11, -7.65735080e-11, -1.16520380e-10, -1.76395284e-10,\n",
       "       -2.65663807e-10, -3.98049121e-10, -5.93332713e-10, -8.79864282e-10,\n",
       "       -1.29803743e-09, -1.90507107e-09, -2.78154326e-09, -4.04025979e-09,\n",
       "       -5.83820964e-09, -8.39257070e-09, -1.20019877e-08, -1.70746583e-08,\n",
       "       -2.41651368e-08, -3.40222085e-08, -4.76506950e-08, -6.63906349e-08,\n",
       "       -9.20179275e-08, -1.26871227e-07, -1.74010611e-07, -2.37414269e-07,\n",
       "       -3.22220184e-07, -4.35020312e-07, -5.84215230e-07, -7.80437291e-07,\n",
       "       -1.03705002e-06, -1.37073061e-06, -1.80214072e-06, -2.35668809e-06,\n",
       "       -3.06537765e-06, -3.96574546e-06, -5.10286163e-06, -6.53037919e-06,\n",
       "       -8.31159447e-06, -1.05204706e-05, -1.32425596e-05, -1.65757388e-05,\n",
       "       -2.06306590e-05, -2.55307771e-05, -3.14118281e-05, -3.84205704e-05,\n",
       "       -4.67126283e-05, -5.64492511e-05, -6.77928235e-05, -8.09009919e-05,\n",
       "       -9.59193365e-05, -1.12972608e-04, -1.32154677e-04, -1.53517510e-04,\n",
       "       -1.77059664e-04, -2.02715018e-04, -2.30342609e-04, -2.59718638e-04,\n",
       "       -2.90531721e-04, -3.22382453e-04, -3.54788103e-04, -3.87192948e-04,\n",
       "       -4.18984209e-04, -4.49513003e-04, -4.78119126e-04, -5.04157933e-04,\n",
       "       -5.27027309e-04, -5.46192569e-04, -5.61207330e-04, -5.71728825e-04,\n",
       "       -5.77526717e-04, -5.78485151e-04, -5.74598479e-04, -5.65961591e-04,\n",
       "       -5.52756187e-04, -5.35234487e-04, -5.13701843e-04, -4.88499585e-04,\n",
       "       -4.59989119e-04, -4.28538054e-04, -3.94508776e-04, -3.58249662e-04,\n",
       "       -3.20088896e-04, -2.80330706e-04, -2.39253747e-04, -1.97111303e-04,\n",
       "       -1.54132991e-04, -1.10527640e-04, -6.64870667e-05, -2.21905095e-05,\n",
       "        2.21905095e-05,  6.64870667e-05,  1.10527640e-04,  1.54132991e-04,\n",
       "        1.97111303e-04,  2.39253747e-04,  2.80330706e-04,  3.20088896e-04,\n",
       "        3.58249662e-04,  3.94508776e-04,  4.28538054e-04,  4.59989119e-04,\n",
       "        4.88499585e-04,  5.13701843e-04,  5.35234487e-04,  5.52756187e-04,\n",
       "        5.65961591e-04,  5.74598479e-04,  5.78485151e-04,  5.77526717e-04,\n",
       "        5.71728825e-04,  5.61207330e-04,  5.46192569e-04,  5.27027309e-04,\n",
       "        5.04157933e-04,  4.78119126e-04,  4.49513003e-04,  4.18984209e-04,\n",
       "        3.87192948e-04,  3.54788103e-04,  3.22382453e-04,  2.90531721e-04,\n",
       "        2.59718638e-04,  2.30342609e-04,  2.02715018e-04,  1.77059664e-04,\n",
       "        1.53517510e-04,  1.32154677e-04,  1.12972608e-04,  9.59193365e-05,\n",
       "        8.09009919e-05,  6.77928235e-05,  5.64492511e-05,  4.67126283e-05,\n",
       "        3.84205704e-05,  3.14118281e-05,  2.55307771e-05,  2.06306590e-05,\n",
       "        1.65757388e-05,  1.32425596e-05,  1.05204706e-05,  8.31159447e-06,\n",
       "        6.53037919e-06,  5.10286163e-06,  3.96574546e-06,  3.06537765e-06,\n",
       "        2.35668809e-06,  1.80214072e-06,  1.37073061e-06,  1.03705002e-06,\n",
       "        7.80437291e-07,  5.84215230e-07,  4.35020312e-07,  3.22220184e-07,\n",
       "        2.37414269e-07,  1.74010611e-07,  1.26871227e-07,  9.20179275e-08,\n",
       "        6.63906349e-08,  4.76506950e-08,  3.40222085e-08,  2.41651368e-08,\n",
       "        1.70746583e-08,  1.20019877e-08,  8.39257070e-09,  5.83820964e-09,\n",
       "        4.04025979e-09,  2.78154326e-09,  1.90507107e-09,  1.29803743e-09,\n",
       "        8.79864282e-10,  5.93332713e-10,  3.98049121e-10,  2.65663807e-10,\n",
       "        1.76395284e-10,  1.16520380e-10,  7.65735080e-11,  5.00631654e-11,\n",
       "        3.25628552e-11,  2.10713461e-11,  1.35652947e-11,  8.68828620e-12,\n",
       "        5.53615140e-12,  3.50956070e-12,  2.21344471e-12,  1.38885431e-12,\n",
       "        8.66997446e-13,  5.38465106e-13,  3.32713024e-13,  2.04527367e-13,\n",
       "        1.25090910e-13,  7.61161967e-14,  4.60777250e-14,  2.77521062e-14,\n",
       "        1.66290592e-14,  9.91220994e-15,  5.88071258e-15,  3.46944695e-15,\n",
       "        2.03309591e-15,  1.19002030e-15,  6.93889390e-16,  3.98986399e-16,\n",
       "        2.28983499e-16,  1.31838984e-16,  7.63278329e-17,  4.16333634e-17,\n",
       "        2.42861287e-17,  1.38777878e-17,  6.93889390e-18,  3.46944695e-18,\n",
       "        3.46944695e-18,  3.46944695e-18,  0.00000000e+00,  0.00000000e+00,\n",
       "        0.00000000e+00,  0.00000000e+00,  0.00000000e+00,  0.00000000e+00,\n",
       "        0.00000000e+00,  0.00000000e+00,  0.00000000e+00,  0.00000000e+00,\n",
       "        0.00000000e+00,  0.00000000e+00,  0.00000000e+00,  0.00000000e+00,\n",
       "        0.00000000e+00,  0.00000000e+00,  0.00000000e+00,  0.00000000e+00,\n",
       "        0.00000000e+00,  0.00000000e+00,  0.00000000e+00,  0.00000000e+00,\n",
       "        0.00000000e+00,  0.00000000e+00,  0.00000000e+00,  0.00000000e+00,\n",
       "        0.00000000e+00,  0.00000000e+00,  0.00000000e+00,  0.00000000e+00,\n",
       "        0.00000000e+00,  0.00000000e+00,  0.00000000e+00,  0.00000000e+00,\n",
       "        0.00000000e+00,  0.00000000e+00,  0.00000000e+00,  0.00000000e+00,\n",
       "        0.00000000e+00,  0.00000000e+00,  0.00000000e+00,  0.00000000e+00,\n",
       "        0.00000000e+00,  0.00000000e+00,  0.00000000e+00,  0.00000000e+00,\n",
       "        0.00000000e+00,  0.00000000e+00,  0.00000000e+00,  0.00000000e+00,\n",
       "        0.00000000e+00,  0.00000000e+00,  0.00000000e+00,  0.00000000e+00,\n",
       "        0.00000000e+00,  0.00000000e+00,  0.00000000e+00,  0.00000000e+00,\n",
       "        0.00000000e+00,  0.00000000e+00,  0.00000000e+00,  0.00000000e+00,\n",
       "        0.00000000e+00,  0.00000000e+00,  0.00000000e+00,  0.00000000e+00,\n",
       "        0.00000000e+00,  0.00000000e+00,  0.00000000e+00,  0.00000000e+00,\n",
       "        0.00000000e+00,  0.00000000e+00,  0.00000000e+00,  0.00000000e+00,\n",
       "        0.00000000e+00,  0.00000000e+00,  0.00000000e+00,  0.00000000e+00])"
      ]
     },
     "execution_count": 31,
     "metadata": {},
     "output_type": "execute_result"
    },
    {
     "data": {
      "image/png": "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",
      "text/plain": [
       "<Figure size 432x288 with 1 Axes>"
      ]
     },
     "metadata": {
      "needs_background": "light"
     },
     "output_type": "display_data"
    }
   ],
   "source": [
    "plt.plot(x, probar)\n",
    "probar\n"
   ]
  },
  {
<<<<<<< HEAD
   "cell_type": "code",
   "execution_count": null,
   "metadata": {},
   "outputs": [],
   "source": []
=======
   "cell_type": "markdown",
   "metadata": {},
   "source": [
    "\n",
    "<img src=\"https://i3.lensdump.com/i/13oG0Z.jpg\" alt=\"Demostration\" width=\"450\"/> \n",
    "<img src=\"https://i.lensdump.com/i/13oaqP.jpg\" alt=\"Demostration\" width=\"450\"/> \n",
    "<img src=\"https://i1.lensdump.com/i/13ohYm.jpg\" alt=\"Demostration\" width=\"450\"/> \n"
   ]
>>>>>>> be5142cddfb8ec013557b1ddca49ef3c5fe82f82
  }
 ],
 "metadata": {
  "kernelspec": {
   "display_name": "Python 3.9.12 ('base')",
   "language": "python",
   "name": "python3"
  },
  "language_info": {
   "codemirror_mode": {
    "name": "ipython",
    "version": 3
   },
   "file_extension": ".py",
   "mimetype": "text/x-python",
   "name": "python",
   "nbconvert_exporter": "python",
   "pygments_lexer": "ipython3",
   "version": "3.9.12"
  },
  "orig_nbformat": 4,
  "vscode": {
   "interpreter": {
    "hash": "ad2bdc8ecc057115af97d19610ffacc2b4e99fae6737bb82f5d7fb13d2f2c186"
   }
  }
 },
 "nbformat": 4,
 "nbformat_minor": 2
}
