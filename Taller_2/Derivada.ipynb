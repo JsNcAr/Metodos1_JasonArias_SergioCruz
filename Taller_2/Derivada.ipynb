{
 "cells": [
  {
   "cell_type": "code",
   "execution_count": 66,
   "metadata": {},
   "outputs": [],
   "source": [
    "import numpy as np\n",
    "import matplotlib.pyplot as plt"
   ]
  },
  {
   "cell_type": "code",
   "execution_count": 67,
   "metadata": {},
   "outputs": [],
   "source": [
    "h  = 0.05\n",
    "x = np.linspace(-10,10,int(20/h))\n",
    "\n"
   ]
  },
  {
   "cell_type": "code",
   "execution_count": 68,
   "metadata": {},
   "outputs": [
    {
     "data": {
      "text/plain": [
       "0.05012531328320868"
      ]
     },
     "execution_count": 68,
     "metadata": {},
     "output_type": "execute_result"
    }
   ],
   "source": [
    "x[1]-x[0]\n"
   ]
  },
  {
   "cell_type": "code",
   "execution_count": 69,
   "metadata": {},
   "outputs": [],
   "source": [
    "expo= lambda x: (1 + np.exp(-x**2))**(-1/2)"
   ]
  },
  {
   "cell_type": "code",
   "execution_count": 70,
   "metadata": {},
   "outputs": [],
   "source": [
    "comparacion= lambda x: (x*np.exp(-x**2))/(np.exp(-x**2)+1)**(3/2)"
   ]
  },
  {
   "cell_type": "code",
   "execution_count": 71,
   "metadata": {},
   "outputs": [],
   "source": [
    "def DerivativeC(x,f,h):\n",
    "    return (f(x+h)-f(x-h))/(2*h)"
   ]
  },
  {
   "cell_type": "code",
   "execution_count": 72,
   "metadata": {},
   "outputs": [],
   "source": [
    "DerivadaC = DerivativeC(x,expo,h)\n",
    "\n",
    "teorica = comparacion(x)\n"
   ]
  },
  {
   "cell_type": "code",
   "execution_count": 73,
   "metadata": {},
   "outputs": [
    {
     "data": {
      "text/plain": [
       "[<matplotlib.lines.Line2D at 0x23684dda610>]"
      ]
     },
     "execution_count": 73,
     "metadata": {},
     "output_type": "execute_result"
    },
    {
     "data": {
      "image/png": "[encoded data removed]",
      "text/plain": [
       "<Figure size 432x288 with 1 Axes>"
      ]
     },
     "metadata": {
      "needs_background": "light"
     },
     "output_type": "display_data"
    }
   ],
   "source": [
    "plt.plot(x,DerivadaC)\n",
    "plt.plot(x,teorica)\n"
   ]
  },
  {
   "cell_type": "code",
   "execution_count": 74,
   "metadata": {},
   "outputs": [],
   "source": [
    "ErrorNodal = np.abs(DerivadaC-teorica)"
   ]
  },
  {
   "cell_type": "code",
   "execution_count": 75,
   "metadata": {},
   "outputs": [
    {
     "name": "stdout",
     "output_type": "stream",
     "text": [
      "[3.72007598e-43 1.00614639e-42 2.70755412e-42 7.24935912e-42\n",
      " 1.93120538e-41 5.11874599e-41 1.34991009e-40 3.54202921e-40\n",
      " 9.24709548e-40 2.40195205e-39 6.20767520e-39 1.59624362e-38\n",
      " 4.08389688e-38 1.03957455e-37 2.63294418e-37 6.63487391e-37\n",
      " 1.66352207e-36 4.14981934e-36 1.02999331e-35 2.54357217e-35\n",
      " 6.24968348e-35 1.52783386e-34 3.71619282e-34 8.99340585e-34\n",
      " 2.16547829e-33 5.18784513e-33 1.23658376e-32 2.93267054e-32\n",
      " 6.91999927e-32 1.62461958e-31 3.79489714e-31 8.81963978e-31\n",
      " 2.03940753e-30 4.69201443e-30 1.07403052e-29 2.44610829e-29\n",
      " 5.54289072e-29 1.24967861e-28 2.80324811e-28 6.25641745e-28\n",
      " 1.38928283e-27 3.06941900e-27 6.74717582e-27 1.47566575e-26\n",
      " 3.21110027e-26 6.95215433e-26 1.49756050e-25 3.20958251e-25\n",
      " 6.84402629e-25 1.45202302e-24 3.06502334e-24 6.43712985e-24\n",
      " 1.34508178e-23 2.79642242e-23 5.78434589e-23 1.19042722e-22\n",
      " 2.43752047e-22 4.96581155e-22 1.00653397e-21 2.02984362e-21\n",
      " 4.07279313e-21 8.13050336e-21 1.61486977e-20 3.19118684e-20\n",
      " 6.27424223e-20 1.22733835e-19 2.38869637e-19 4.62541660e-19\n",
      " 8.91114790e-19 1.70808297e-18 3.25743981e-18 6.18067019e-18\n",
      " 1.16677218e-17 2.19142936e-17 4.09505157e-17 7.61344699e-17\n",
      " 1.40829258e-16 2.59175300e-16 6.35671892e-16 2.45731721e-16\n",
      " 4.56621708e-16 5.05278374e-16 4.82167999e-16 1.66019773e-16\n",
      " 5.85626157e-16 4.76781450e-16 3.38720776e-15 3.76214909e-15\n",
      " 6.90189809e-15 1.24453930e-14 2.23961802e-14 3.68282671e-14\n",
      " 6.17665202e-14 1.02483719e-13 1.68931392e-13 2.77976175e-13\n",
      " 4.54359180e-13 7.41284024e-13 1.19867169e-12 1.93019999e-12\n",
      " 3.09083189e-12 4.92428194e-12 7.80181625e-12 1.22957236e-11\n",
      " 1.92726386e-11 3.00474141e-11 4.65924615e-11 7.18574906e-11\n",
      " 1.10220730e-10 1.68153887e-10 2.55138557e-10 3.85010721e-10\n",
      " 5.77824175e-10 8.62454026e-10 1.28023072e-09 1.88993828e-09\n",
      " 2.77464997e-09 4.05100863e-09 5.88174779e-09 8.49240602e-09\n",
      " 1.21935186e-08 1.74098027e-08 2.47182217e-08 3.48972142e-08\n",
      " 4.89898098e-08 6.83837554e-08 9.49123119e-08 1.30979778e-07\n",
      " 1.79716136e-07 2.45165517e-07 3.32513115e-07 4.48354981e-07\n",
      " 6.01014330e-07 8.00906772e-07 1.06095480e-06 1.39704897e-06\n",
      " 1.82854907e-06 2.37881332e-06 3.07573666e-06 3.95227047e-06\n",
      " 5.04688592e-06 6.40393031e-06 8.07381170e-06 1.01129308e-05\n",
      " 1.25832614e-05 1.55514623e-05 1.90873854e-05 2.32618277e-05\n",
      " 2.81433649e-05 3.37940982e-05 4.02641571e-05 4.75848296e-05\n",
      " 5.57602479e-05 6.47576558e-05 7.44964268e-05 8.48362103e-05\n",
      " 9.55648532e-05 1.06387087e-04 1.16915362e-04 1.26664613e-04\n",
      " 1.35053127e-04 1.41411885e-04 1.45004737e-04 1.45061323e-04\n",
      " 1.40823663e-04 1.31605745e-04 1.16863271e-04 9.62680938e-05\n",
      " 6.97793587e-05 3.77013453e-05 7.17327176e-07 4.01100954e-05\n",
      " 8.33783953e-05 1.27425181e-04 1.70443391e-04 2.10619760e-04\n",
      " 2.46279932e-04 2.76021687e-04 2.98819255e-04 3.14086378e-04\n",
      " 3.21692568e-04 3.21934327e-04 3.15469432e-04 3.03226511e-04\n",
      " 2.86303621e-04 2.65868568e-04 2.43070941e-04 2.18972198e-04\n",
      " 1.94496498e-04 1.70401860e-04 1.47269104e-04 1.25504807e-04\n",
      " 1.05354162e-04 8.69198809e-05 7.01839309e-05 5.50296605e-05\n",
      " 4.12627077e-05 2.86297825e-05 1.68350139e-05 5.55399795e-06\n",
      " 5.55399795e-06 1.68350139e-05 2.86297825e-05 4.12627077e-05\n",
      " 5.50296605e-05 7.01839309e-05 8.69198809e-05 1.05354162e-04\n",
      " 1.25504807e-04 1.47269104e-04 1.70401860e-04 1.94496498e-04\n",
      " 2.18972198e-04 2.43070941e-04 2.65868568e-04 2.86303621e-04\n",
      " 3.03226511e-04 3.15469432e-04 3.21934327e-04 3.21692568e-04\n",
      " 3.14086378e-04 2.98819255e-04 2.76021687e-04 2.46279932e-04\n",
      " 2.10619760e-04 1.70443391e-04 1.27425181e-04 8.33783953e-05\n",
      " 4.01100954e-05 7.17327178e-07 3.77013453e-05 6.97793587e-05\n",
      " 9.62680938e-05 1.16863271e-04 1.31605745e-04 1.40823663e-04\n",
      " 1.45061323e-04 1.45004737e-04 1.41411885e-04 1.35053127e-04\n",
      " 1.26664613e-04 1.16915362e-04 1.06387087e-04 9.55648532e-05\n",
      " 8.48362103e-05 7.44964268e-05 6.47576558e-05 5.57602479e-05\n",
      " 4.75848296e-05 4.02641571e-05 3.37940982e-05 2.81433649e-05\n",
      " 2.32618277e-05 1.90873854e-05 1.55514623e-05 1.25832614e-05\n",
      " 1.01129308e-05 8.07381170e-06 6.40393031e-06 5.04688592e-06\n",
      " 3.95227047e-06 3.07573666e-06 2.37881332e-06 1.82854907e-06\n",
      " 1.39704897e-06 1.06095480e-06 8.00906772e-07 6.01014330e-07\n",
      " 4.48354981e-07 3.32513115e-07 2.45165517e-07 1.79716136e-07\n",
      " 1.30979778e-07 9.49123119e-08 6.83837554e-08 4.89898098e-08\n",
      " 3.48972142e-08 2.47182217e-08 1.74098027e-08 1.21935186e-08\n",
      " 8.49240602e-09 5.88174779e-09 4.05100863e-09 2.77464997e-09\n",
      " 1.88993828e-09 1.28023072e-09 8.62454026e-10 5.77824175e-10\n",
      " 3.85010721e-10 2.55138557e-10 1.68153887e-10 1.10220730e-10\n",
      " 7.18574906e-11 4.65924615e-11 3.00474141e-11 1.92726386e-11\n",
      " 1.22957236e-11 7.80181625e-12 4.92428194e-12 3.09083189e-12\n",
      " 1.93019999e-12 1.19867169e-12 7.41284024e-13 4.54359180e-13\n",
      " 2.77976175e-13 1.68931392e-13 1.02483719e-13 6.17665202e-14\n",
      " 3.68282671e-14 2.23961802e-14 1.24453930e-14 6.90189809e-15\n",
      " 3.76214909e-15 3.38720776e-15 4.76781450e-16 5.85626157e-16\n",
      " 1.66019773e-16 4.82167999e-16 5.05278374e-16 4.56621708e-16\n",
      " 2.45731721e-16 6.35671892e-16 2.59175300e-16 1.40829258e-16\n",
      " 7.61344699e-17 4.09505157e-17 2.19142936e-17 1.16677218e-17\n",
      " 6.18067019e-18 3.25743981e-18 1.70808297e-18 8.91114790e-19\n",
      " 4.62541660e-19 2.38869637e-19 1.22733835e-19 6.27424223e-20\n",
      " 3.19118684e-20 1.61486977e-20 8.13050336e-21 4.07279313e-21\n",
      " 2.02984362e-21 1.00653397e-21 4.96581155e-22 2.43752047e-22\n",
      " 1.19042722e-22 5.78434589e-23 2.79642242e-23 1.34508178e-23\n",
      " 6.43712985e-24 3.06502334e-24 1.45202302e-24 6.84402629e-25\n",
      " 3.20958251e-25 1.49756050e-25 6.95215433e-26 3.21110027e-26\n",
      " 1.47566575e-26 6.74717582e-27 3.06941900e-27 1.38928283e-27\n",
      " 6.25641745e-28 2.80324811e-28 1.24967861e-28 5.54289072e-29\n",
      " 2.44610829e-29 1.07403052e-29 4.69201443e-30 2.03940753e-30\n",
      " 8.81963978e-31 3.79489714e-31 1.62461958e-31 6.91999927e-32\n",
      " 2.93267054e-32 1.23658376e-32 5.18784513e-33 2.16547829e-33\n",
      " 8.99340585e-34 3.71619282e-34 1.52783386e-34 6.24968348e-35\n",
      " 2.54357217e-35 1.02999331e-35 4.14981934e-36 1.66352207e-36\n",
      " 6.63487391e-37 2.63294418e-37 1.03957455e-37 4.08389688e-38\n",
      " 1.59624362e-38 6.20767520e-39 2.40195205e-39 9.24709548e-40\n",
      " 3.54202921e-40 1.34991009e-40 5.11874599e-41 1.93120538e-41\n",
      " 7.24935912e-42 2.70755412e-42 1.00614639e-42 3.72007598e-43]\n"
     ]
    }
   ],
   "source": [
    "print(ErrorNodal)"
   ]
  },
  {
   "cell_type": "code",
   "execution_count": 80,
   "metadata": {},
   "outputs": [],
   "source": [
    "M=[1,0,-1]\n"
   ]
  },
  {
   "cell_type": "code",
   "execution_count": 77,
   "metadata": {},
   "outputs": [],
   "source": [
    "def DerivadaCentral (x,funcion):\n",
    "    funcion= [x-1,x,x+1]\n",
    "    contador=0\n",
    "    for i in range (len(M)):\n",
    "        contador+=funcion(x+M[i]*h)\n",
    "\n",
    "    return (1/(2*h))*contador\n",
    "    "
   ]
  },
  {
   "cell_type": "code",
   "execution_count": 78,
   "metadata": {},
   "outputs": [],
   "source": [
    "resul= DerivadaCentral(x,expo)"
   ]
  },
  {
   "cell_type": "code",
   "execution_count": 79,
   "metadata": {},
   "outputs": [
    {
     "data": {
      "text/plain": [
       "[<matplotlib.lines.Line2D at 0x23684e4d0d0>]"
      ]
     },
     "execution_count": 79,
     "metadata": {},
     "output_type": "execute_result"
    },
    {
     "data": {
      "image/png": "[encoded data removed]",
      "text/plain": [
       "<Figure size 432x288 with 1 Axes>"
      ]
     },
     "metadata": {
      "needs_background": "light"
     },
     "output_type": "display_data"
    }
   ],
   "source": [
    "plt.plot(x,resul)"
   ]
  },
  {
   "cell_type": "code",
   "execution_count": null,
   "metadata": {},
   "outputs": [],
   "source": []
  },
  {
   "cell_type": "code",
   "execution_count": null,
   "metadata": {},
   "outputs": [],
   "source": []
  }
 ],
 "metadata": {
  "kernelspec": {
   "display_name": "Python 3.9.12 ('base')",
   "language": "python",
   "name": "python3"
  },
  "language_info": {
   "codemirror_mode": {
    "name": "ipython",
    "version": 3
   },
   "file_extension": ".py",
   "mimetype": "text/x-python",
   "name": "python",
   "nbconvert_exporter": "python",
   "pygments_lexer": "ipython3",
   "version": "3.9.12"
  },
  "orig_nbformat": 4,
  "vscode": {
   "interpreter": {
    "hash": "ad2bdc8ecc057115af97d19610ffacc2b4e99fae6737bb82f5d7fb13d2f2c186"
   }
  }
 },
 "nbformat": 4,
 "nbformat_minor": 2
}
