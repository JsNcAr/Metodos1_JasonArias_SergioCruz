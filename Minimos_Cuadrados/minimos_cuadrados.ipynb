{
 "cells": [
  {
   "cell_type": "code",
   "execution_count": 1,
   "metadata": {},
   "outputs": [],
   "source": [
    "import numpy as np\n",
    "import matplotlib.pyplot as plt\n",
    "from scipy.optimize import curve_fit\n",
    "import pandas as pd\n",
    "import sympy as sym\n",
    "from sympy import init_session\n",
    "from sympy import init_printing\n"
   ]
  },
  {
   "cell_type": "code",
   "execution_count": 2,
   "metadata": {},
   "outputs": [
    {
     "name": "stdout",
     "output_type": "stream",
     "text": [
      "IPython console for SymPy 1.10.1 (Python 3.9.12-64-bit) (ground types: gmpy)\n",
      "\n",
      "These commands were executed:\n",
      ">>> from sympy import *\n",
      ">>> x, y, z, t = symbols('x y z t')\n",
      ">>> k, m, n = symbols('k m n', integer=True)\n",
      ">>> f, g, h = symbols('f g h', cls=Function)\n",
      ">>> init_printing()\n",
      "\n",
      "Documentation can be found at https://docs.sympy.org/1.10.1/\n",
      "\n"
     ]
    }
   ],
   "source": [
    "init_session()"
   ]
  },
  {
   "cell_type": "markdown",
   "metadata": {},
   "source": [
    "## Punto 1"
   ]
  },
  {
   "cell_type": "markdown",
   "metadata": {},
   "source": [
    "## Punto 6"
   ]
  },
  {
   "cell_type": "markdown",
   "metadata": {},
   "source": [
    "## Punto 7"
   ]
  },
  {
   "cell_type": "code",
   "execution_count": 3,
   "metadata": {},
   "outputs": [],
   "source": [
    "data = pd.read_csv('Sigmoid.csv')"
   ]
  },
  {
   "cell_type": "code",
   "execution_count": 4,
   "metadata": {},
   "outputs": [],
   "source": [
    "def fit_model(x, a, b, c):\n",
    "    return a / (b + np.exp(-c * x))\n",
    "\n",
    "def sym_fit(x, a, b, c):\n",
    "    return a / (b + sym.exp(-c * x))\n",
    "\n",
    "def cost_function(x, y, a, b, c):\n",
    "    return np.sum((y - fit_model(x, a, b, c))**2)\n",
    "def symbolic_cost_function(x, y, a, b, c):\n",
    "    return sym.Sum((y - sym_fit(x, a, b, c))**2, (x, 0, len(data['x'])))\n",
    "\n",
    "def partial_symbolic_derivative():\n",
    "    x = sym.symbols('x')\n",
    "    y = sym.symbols('y')\n",
    "    a = sym.symbols('theta_0')\n",
    "    b = sym.symbols('theta_1')\n",
    "    c = sym.symbols('theta_2')\n",
    "    sym_cost = symbolic_cost_function(x, y, a, b, c)\n",
    "    return sym.diff(sym_cost, a), sym.diff(sym_cost, b), sym.diff(sym_cost, c)"
   ]
  },
  {
   "cell_type": "code",
   "execution_count": 5,
   "metadata": {},
   "outputs": [
    {
     "data": {
      "image/png": "[encoded data removed]",
      "text/latex": [
       "$\\displaystyle \\left( \\sum_{x=0}^{50} - \\frac{2 \\left(- \\frac{\\theta_{0}}{\\theta_{1} + e^{- \\theta_{2} x}} + y\\right)}{\\theta_{1} + e^{- \\theta_{2} x}}, \\  \\sum_{x=0}^{50} \\frac{2 \\theta_{0} \\left(- \\frac{\\theta_{0}}{\\theta_{1} + e^{- \\theta_{2} x}} + y\\right)}{\\left(\\theta_{1} + e^{- \\theta_{2} x}\\right)^{2}}, \\  \\sum_{x=0}^{50} - \\frac{2 \\theta_{0} x \\left(- \\frac{\\theta_{0}}{\\theta_{1} + e^{- \\theta_{2} x}} + y\\right) e^{- \\theta_{2} x}}{\\left(\\theta_{1} + e^{- \\theta_{2} x}\\right)^{2}}\\right)$"
      ],
      "text/plain": [
       "⎛  50                              50                               50        \n",
       "⎜______                          ______                           ______      \n",
       "⎜╲                               ╲                                ╲           \n",
       "⎜ ╲                               ╲          ⎛       θ₀        ⎞   ╲          \n",
       "⎜  ╲       ⎛       θ₀        ⎞     ╲    2⋅θ₀⋅⎜- ─────────── + y⎟    ╲    -2⋅θ₀\n",
       "⎜   ╲   -2⋅⎜- ─────────── + y⎟      ╲        ⎜        -θ₂⋅x    ⎟     ╲        \n",
       "⎜    ╲     ⎜        -θ₂⋅x    ⎟       ╲       ⎝  θ₁ + ℯ         ⎠      ╲       \n",
       "⎜    ╱     ⎝  θ₁ + ℯ         ⎠ ,     ╱  ────────────────────────,     ╱  ─────\n",
       "⎜   ╱   ───────────────────────     ╱                     2          ╱        \n",
       "⎜  ╱                -θ₂⋅x          ╱         ⎛      -θ₂⋅x⎞          ╱         \n",
       "⎜ ╱           θ₁ + ℯ              ╱          ⎝θ₁ + ℯ     ⎠         ╱          \n",
       "⎜╱                               ╱                                ╱           \n",
       "⎜‾‾‾‾‾‾                          ‾‾‾‾‾‾                           ‾‾‾‾‾‾      \n",
       "⎝x = 0                           x = 0                            x = 0       \n",
       "\n",
       "                              ⎞\n",
       "                              ⎟\n",
       "                              ⎟\n",
       "   ⎛       θ₀        ⎞  -θ₂⋅x ⎟\n",
       "⋅x⋅⎜- ─────────── + y⎟⋅ℯ      ⎟\n",
       "   ⎜        -θ₂⋅x    ⎟        ⎟\n",
       "   ⎝  θ₁ + ℯ         ⎠        ⎟\n",
       "──────────────────────────────⎟\n",
       "                   2          ⎟\n",
       "      ⎛      -θ₂⋅x⎞           ⎟\n",
       "      ⎝θ₁ + ℯ     ⎠           ⎟\n",
       "                              ⎟\n",
       "                              ⎟\n",
       "                              ⎠"
      ]
     },
     "execution_count": 5,
     "metadata": {},
     "output_type": "execute_result"
    }
   ],
   "source": [
    "init_printing(use_latex=True)\n",
    "\n",
    "partial_symbolic_derivative()\n"
   ]
  },
  {
   "cell_type": "markdown",
   "metadata": {},
   "source": [
    "<img src=\"https://i.lensdump.com/i/1htIk1.jpg\" alt=\"1htIk1.jpg\" border=\"0\" />"
   ]
  },
  {
   "cell_type": "code",
   "execution_count": 6,
   "metadata": {},
   "outputs": [],
   "source": [
    "def partial_derivative(x, y, a, b, c):\n",
    "    partial_a = 0\n",
    "    partial_b = 0\n",
    "    partial_c = 0\n",
    "    for i in range(len(x)):\n",
    "        partial_a += 2 * (a / (b + np.exp(-c * x[i])) - y[i]) / (b + np.exp(-c * x[i]))\n",
    "        partial_b += 2 * (a / (b + np.exp(-c * x[i])) - y[i]) * a * np.exp(-c * x[i]) / (b + np.exp(-c * x[i]))**2\n",
    "        partial_c += 2 * (a / (b + np.exp(-c * x[i])) - y[i]) * a * x[i] * np.exp(-c * x[i]) / (b + np.exp(-c * x[i]))**2\n",
    "    return partial_a, partial_b, partial_c\n",
    "\n",
    "def gradient_descent(x, y, a, b, c, learning_rate, iterations):\n",
    "    cost_history = np.zeros(iterations)\n",
    "    for i in range(iterations):\n",
    "        a = a - learning_rate * partial_derivative(x, y, a, b, c)[0]\n",
    "        b = b - learning_rate * partial_derivative(x, y, a, b, c)[1]\n",
    "        c = c - learning_rate * partial_derivative(x, y, a, b, c)[2]\n",
    "        cost_history[i] = cost_function(x, y, a, b, c)\n",
    "    return a, b, c, cost_history"
   ]
  },
  {
   "cell_type": "code",
   "execution_count": 7,
   "metadata": {},
   "outputs": [
    {
     "data": {
      "text/plain": [
       "(4.517779201141752,\n",
       " 0.9975196558191154,\n",
       " 2.358597394835304,\n",
       " array([2.01715721e+02, 2.00577415e+02, 1.99448146e+02, ...,\n",
       "        1.80673930e-01, 1.80658454e-01, 1.80642981e-01]))"
      ]
     },
     "execution_count": 7,
     "metadata": {},
     "output_type": "execute_result"
    }
   ],
   "source": [
    "model = gradient_descent(data['x'], data['y'], 1, 1, 1, 0.0001, 10000)\n"
   ]
  },
  {
   "cell_type": "code",
   "execution_count": null,
   "metadata": {},
   "outputs": [],
   "source": []
  },
  {
   "cell_type": "markdown",
   "metadata": {},
   "source": [
    "## Punto 8"
   ]
  }
 ],
 "metadata": {
  "kernelspec": {
   "display_name": "Python 3.9.12 ('base')",
   "language": "python",
   "name": "python3"
  },
  "language_info": {
   "codemirror_mode": {
    "name": "ipython",
    "version": 3
   },
   "file_extension": ".py",
   "mimetype": "text/x-python",
   "name": "python",
   "nbconvert_exporter": "python",
   "pygments_lexer": "ipython3",
   "version": "3.9.12"
  },
  "orig_nbformat": 4,
  "vscode": {
   "interpreter": {
    "hash": "b3ff5c1b5424807e928bf8bee38bc8a3478b3941c229b42d5add67274bc7395e"
   }
  }
 },
 "nbformat": 4,
 "nbformat_minor": 2
}
