{
 "cells": [
  {
   "cell_type": "markdown",
   "metadata": {},
   "source": [
    "## Taller 4 Integracion Numerica\n",
    "\n",
    "### Jason Nicolas Arias 201820623  |  Sergio Cruz"
   ]
  },
  {
   "cell_type": "markdown",
   "metadata": {},
   "source": [
    "### Punto 1:\n",
    "Hacer los pasos intermedios para la regla de trapecio simple, ecuacion:"
   ]
  },
  {
   "cell_type": "markdown",
   "metadata": {},
   "source": [
    "<img src=\"https://i3.lensdump.com/i/1e5Vq1.png\" alt=\"1e5Vq1.png\" border=\"0\" />"
   ]
  },
  {
   "cell_type": "markdown",
   "metadata": {},
   "source": [
    "Tenemos que"
   ]
  },
  {
   "cell_type": "markdown",
   "metadata": {},
   "source": [
    "<img src=\"https://i1.lensdump.com/i/1ehUJC.png\" alt=\"1ehUJC.png\" border=\"0\" />"
   ]
  },
  {
   "cell_type": "markdown",
   "metadata": {},
   "source": [
    "\\begin{equation}\n",
    "\\rightarrow \\frac{(b-a)(x-b)f(a)+f(b)(a-b)(x-a)}{(a-b)(b-a)} = \\frac{-(a-b)(x-b)f(a)+f(b)(a-b)(x-a)}{(a-b)(b-a)} = \\frac{(b-x)f(a)+f(b)(x-a)}{(b-a)} = \\frac{bf(a)}{b-a} - \\frac{xf(a)}{b-a} + \\frac{xf(b)}{b-a} - \\frac{af(b)}{b-a}\n",
    "\\end{equation}\n",
    "\n",
    "\\begin{equation}\n",
    "= \\frac{bf(a)-af(b)}{b-a} + \\frac{x(f(b)-f(a))}{b-a} \\rightarrow \\int_{a}^{b}p(x)dx = \\int_{a}^{b}  \\frac{bf(a)-af(b)}{b-a} dx + \\int_{a}^{b} \\frac{x(f(b)-f(a))}{b-a} dx\n",
    "\\end{equation}\n",
    "\n",
    "\\begin{equation}\n",
    "=  \\frac{bf(a)-af(b)}{b-a} (b-a) + \\frac{(f(b)+f(a))}{b-a} \\frac{b^2 - a^2}{2} = (bf(a)-af(b)) + \\frac{(f(b)-f(a))}{2}(b+a) = (bf(a)-af(b)) + \\frac{(f(b)-f(a))}{2}(b+a) \n",
    "\\end{equation} "
   ]
  },
  {
   "cell_type": "markdown",
   "metadata": {},
   "source": [
    "\\begin{equation}\n",
    "\\rightarrow \\int_{a}^{b}p(x)dx = \\frac{ 2bf(a)-2af(b) - bf(a) - af(a) +af(b) + bf(b) }{2} = \\frac{ bf(a) - af(b) - af(a) + bf(b) }{2}\n",
    "= \\frac{b(f(a)+f(b)) - a(f(a)+f(b))}{2}\n",
    "\\end{equation}\n",
    "\n",
    "\\begin{equation}\n",
    "= \\frac{b-a}{2}(f(a)+f(b))\n",
    "\\end{equation}"
   ]
  },
  {
   "cell_type": "markdown",
   "metadata": {},
   "source": [
    "### Punto 2:"
   ]
  },
  {
   "cell_type": "markdown",
   "metadata": {},
   "source": [
    "Para la regla del trapecio simple, partimos de que:"
   ]
  },
  {
   "cell_type": "markdown",
   "metadata": {},
   "source": [
    "<img src=\"https://i1.lensdump.com/i/1n8X4b.png\" alt=\"1n8X4b.png\" border=\"0\" />"
   ]
  },
  {
   "cell_type": "markdown",
   "metadata": {},
   "source": [
    "Y el error es igual a:"
   ]
  },
  {
   "cell_type": "markdown",
   "metadata": {},
   "source": [
    "<img src=\"https://i3.lensdump.com/i/1n8h6D.png\" alt=\"1n8h6D.png\" border=\"0\" />"
   ]
  },
  {
   "cell_type": "markdown",
   "metadata": {},
   "source": [
    "\\begin{equation}\n",
    "\\rightarrow \\int_{a}^{b} \\epsilon (x) dx = \\frac{f'' (\\epsilon)}{2} \\int_{a}^{b} x^2 - (b + a)x + ab dx = \\frac{f'' (\\epsilon)}{2} \\left[ \\left( \\frac{b^3 -a^3}{3} \\right) - (b+a)\\frac{(b - a)(b + a)}{2} + ab(b-a) \\right]\n",
    "\\end{equation}"
   ]
  },
  {
   "cell_type": "markdown",
   "metadata": {},
   "source": [
    "\\begin{equation}\n",
    "= \\frac{f'' (\\epsilon)}{2} \\left[ \\frac{(b-a)(b^2 + a^2 + ab)}{3} - \\frac{(b-a)(b+a)^2}{2} + ab(b-a) \\right] = \\frac{f'' (\\epsilon) (b-a)}{2} \\left[ \\frac{b^2 + a^2 + ab}{3} - \\frac{b^2+a^2 +2ab}{2} + ab \\right] \n",
    "\\end{equation}"
   ]
  },
  {
   "cell_type": "markdown",
   "metadata": {},
   "source": [
    "\\begin{equation}\n",
    "= \\frac{f'' (\\epsilon) (b-a)}{2} \\left[ \\frac{2b^2 + 2a^2 + 2ab - 3b^2 - 3a^2 - 6ab +6ab}{6} \\right] = \\frac{f'' (\\epsilon) (b-a)}{2} \\left[ \\frac{-b^2 - a^2 + 2ab}{6} \\right]\n",
    "\\end{equation}"
   ]
  },
  {
   "cell_type": "markdown",
   "metadata": {},
   "source": [
    "\\begin{equation}\n",
    "= \\frac{f'' (\\epsilon) (b-a)}{2} \\left[ \\frac{-(b-a)^2}{6} \\right] = -\\frac{f'' (\\epsilon) (b-a)^3}{12}\n",
    "\\end{equation}"
   ]
  },
  {
   "cell_type": "markdown",
   "metadata": {},
   "source": [
    "Y si tomamos a b-a = h, entonces:"
   ]
  },
  {
   "cell_type": "markdown",
   "metadata": {},
   "source": [
    "\\begin{equation}\n",
    "E = -\\frac{f'' (\\epsilon) (h)^3}{12}\n",
    "\\end{equation}"
   ]
  },
  {
   "cell_type": "markdown",
   "metadata": {},
   "source": [
    "## Punto 3:"
   ]
  },
  {
   "cell_type": "markdown",
   "metadata": {},
   "source": [
    "Hacer los pasos intermedios para la regla de integracion de simpson en la ecuacion:"
   ]
  },
  {
   "cell_type": "markdown",
   "metadata": {},
   "source": [
    "<img src=\"https://i1.lensdump.com/i/1n1IO9.png\" alt=\"1n1IO9.png\" border=\"0\" />"
   ]
  },
  {
   "cell_type": "markdown",
   "metadata": {},
   "source": [
    "Partimos de:"
   ]
  },
  {
   "cell_type": "markdown",
   "metadata": {},
   "source": [
    "<img src=\"https://i2.lensdump.com/i/1n1EVT.png\" alt=\"1n1EVT.png\" border=\"0\" />"
   ]
  },
  {
   "cell_type": "markdown",
   "metadata": {},
   "source": [
    "\\begin{equation}\n",
    "\\rightarrow \\int_{a}^{b}p2(x)dx = \\int_{a}^{b} \\frac{f(a)(x^2 - xx_m -bx + bx_m)}{(a-b)(a-x_m)} + \\frac{f(x_m)(x^2 -bx - ax + ab)}{(x_m -a)(x_m - b)} + \\frac{f(b)(x^2 -ax - xx_m + ax_m)}{(b-a)(b-x_m)} dx \n",
    "\\end{equation}"
   ]
  },
  {
   "cell_type": "markdown",
   "metadata": {},
   "source": [
    "\\begin{equation}\n",
    "\\frac{f(a)(\\frac{b^3 - a^3}{3} - \\frac{b^2 - a^2}{2} (x_m +b) + (b-a)bx_m)}{(a-b)(a-x_m)} + \\frac{f(x_m)(\\frac{b^3 - a^3}{3} - \\frac{b^2 - a^2}{2} (b+a) + (b-a)ab)}{(x_m -a)(x_m - b)} + \\frac{f(b)(\\frac{b^3 - a^3}{3} - \\frac{b^2 - a^2}{2} (a+x_m) + (b-a)ax_m)}{(b-a)(b-x_m)} \n",
    "\\end{equation}"
   ]
  },
  {
   "cell_type": "markdown",
   "metadata": {},
   "source": [
    "\\begin{equation}\n",
    "= \\frac{f(a)(\\frac{b^3 - a^3}{3} - \\frac{b^2 - a^2}{2} (x_m +b) + (b-a)bx_m)}{(a-b)(a-x_m)} + \\frac{f(x_m)(\\frac{b^3 - a^3}{3} - \\frac{b^2 - a^2}{2} (b+a) + (b-a)ab)}{(x_m -a)(x_m - b)} + \\frac{f(b)(\\frac{b^3 - a^3}{3} - \\frac{b^2 - a^2}{2} (a+x_m) + (b-a)ax_m)}{(b-a)(b-x_m)} dx\n",
    "\\end{equation}"
   ]
  },
  {
   "cell_type": "markdown",
   "metadata": {},
   "source": [
    "\\begin{equation}\n",
    "= \\left[ \\frac{ b^3 - a^3}{3} - \\frac{b^2 - a^2}{2} + (b-a) \\right] \\left[ \\frac{f(a)(1+(x_m + b) +bx_m)}{(a-b)(a-x_m)} +  \\frac{f(x_m)(1+(b+a) +ab)}{(x_m -a)(x_m - b)} + \\frac{f(b)(1+(a+x_m) +ax_m)}{(b-a)(b-x_m)}  \\right] \n",
    "\\end{equation}"
   ]
  },
  {
   "cell_type": "markdown",
   "metadata": {},
   "source": [
    "## Punto 5"
   ]
  },
  {
   "cell_type": "code",
   "execution_count": 1,
   "metadata": {},
   "outputs": [],
   "source": [
    "import numpy as np\n",
    "import matplotlib.pyplot as plt"
   ]
  },
  {
   "cell_type": "code",
   "execution_count": 2,
   "metadata": {},
   "outputs": [],
   "source": [
    "def trapezoid_integrate(f, a, b, n):\n",
    "    h = (b-a)/n\n",
    "    x = np.linspace(a, b, n+1)\n",
    "    y = f(x)\n",
    "    return h*(np.sum(y)-0.5*(y[0]+y[-1]))"
   ]
  },
  {
   "cell_type": "code",
   "execution_count": 3,
   "metadata": {},
   "outputs": [
    {
     "name": "stdout",
     "output_type": "stream",
     "text": [
      "Integral = 0.74682\n",
      "Integral teórica = 0.74682\n"
     ]
    }
   ],
   "source": [
    "n = 1000\n",
    "a = 0\n",
    "b = 1\n",
    "f = lambda x: np.exp(-x**2)\n",
    "\n",
    "I = trapezoid_integrate(f, a, b, n)\n",
    "I_teo = 0.74682\n",
    "print(f'Integral = {round(I,5)}')\n",
    "print(f'Integral teórica = {I_teo}')"
   ]
  }
 ],
 "metadata": {
  "kernelspec": {
   "display_name": "Python 3.9.12 ('base')",
   "language": "python",
   "name": "python3"
  },
  "language_info": {
   "codemirror_mode": {
    "name": "ipython",
    "version": 3
   },
   "file_extension": ".py",
   "mimetype": "text/x-python",
   "name": "python",
   "nbconvert_exporter": "python",
   "pygments_lexer": "ipython3",
   "version": "3.9.12"
  },
  "orig_nbformat": 4,
  "vscode": {
   "interpreter": {
    "hash": "ad2bdc8ecc057115af97d19610ffacc2b4e99fae6737bb82f5d7fb13d2f2c186"
   }
  }
 },
 "nbformat": 4,
 "nbformat_minor": 2
}
