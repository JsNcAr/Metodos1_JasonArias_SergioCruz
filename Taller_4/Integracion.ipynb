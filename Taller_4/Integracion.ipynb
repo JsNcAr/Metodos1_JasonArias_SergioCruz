{
 "cells": [
  {
   "cell_type": "markdown",
   "metadata": {},
   "source": [
    "## Taller 4 Integracion Numerica\n",
    "\n",
    "### Jason Nicolas Arias 201820623  |  Sergio Cruz"
   ]
  },
  {
   "cell_type": "markdown",
   "metadata": {},
   "source": [
    "### Punto 1:\n",
    "Hacer los pasos intermedios para la regla de trapecio simple, ecuacion:"
   ]
  },
  {
   "cell_type": "markdown",
   "metadata": {},
   "source": [
    "<img src=\"https://i3.lensdump.com/i/1e5Vq1.png\" alt=\"1e5Vq1.png\" border=\"0\" />"
   ]
  },
  {
   "cell_type": "markdown",
   "metadata": {},
   "source": [
    "Tenemos que"
   ]
  },
  {
   "cell_type": "markdown",
   "metadata": {},
   "source": [
    "<img src=\"https://i1.lensdump.com/i/1ehUJC.png\" alt=\"1ehUJC.png\" border=\"0\" />"
   ]
  },
  {
   "cell_type": "markdown",
   "metadata": {},
   "source": [
    "\\begin{equation}\n",
    "\\rightarrow \\frac{(b-a)(x-b)f(a)+f(b)(a-b)(x-a)}{(a-b)(b-a)} = \\frac{-(a-b)(x-b)f(a)+f(b)(a-b)(x-a)}{(a-b)(b-a)} = \\frac{(b-x)f(a)+f(b)(x-a)}{(b-a)} = \\frac{bf(a)}{b-a} - \\frac{xf(a)}{b-a} + \\frac{xf(b)}{b-a} - \\frac{af(b)}{b-a}\n",
    "\\end{equation}\n",
    "\n",
    "\\begin{equation}\n",
    "= \\frac{bf(a)-af(b)}{b-a} + \\frac{x(f(b)-f(a))}{b-a} \\rightarrow \\int_{a}^{b}p(x)dx = \\int_{a}^{b}  \\frac{bf(a)-af(b)}{b-a} dx + \\int_{a}^{b} \\frac{x(f(b)-f(a))}{b-a} dx\n",
    "\\end{equation}\n",
    "\n",
    "\\begin{equation}\n",
    "=  \\frac{bf(a)-af(b)}{b-a} (b-a) + \\frac{(f(b)+f(a))}{b-a} \\frac{b^2 - a^2}{2} = (bf(a)-af(b)) + \\frac{(f(b)-f(a))}{2}(b+a) = (bf(a)-af(b)) + \\frac{(f(b)-f(a))}{2}(b+a) \n",
    "\\end{equation} "
   ]
  },
  {
   "cell_type": "markdown",
   "metadata": {},
   "source": [
    "\\begin{equation}\n",
    "\\rightarrow \\int_{a}^{b}p(x)dx = \\frac{ 2bf(a)-2af(b) - bf(a) - af(a) +af(b) + bf(b) }{2} = \\frac{ bf(a) - af(b) - af(a) + bf(b) }{2}\n",
    "= \\frac{b(f(a)+f(b)) - a(f(a)+f(b))}{2}\n",
    "\\end{equation}\n",
    "\n",
    "\\begin{equation}\n",
    "= \\frac{b-a}{2}(f(a)+f(b))\n",
    "\\end{equation}"
   ]
  },
  {
   "cell_type": "markdown",
   "metadata": {},
   "source": [
    "### Punto 2:"
   ]
  },
  {
   "cell_type": "markdown",
   "metadata": {},
   "source": [
    "Para la regla del trapecio simple, partimos de que:"
   ]
  },
  {
   "cell_type": "markdown",
   "metadata": {},
   "source": [
    "<img src=\"https://i1.lensdump.com/i/1n8X4b.png\" alt=\"1n8X4b.png\" border=\"0\" />"
   ]
  },
  {
   "cell_type": "markdown",
   "metadata": {},
   "source": [
    "Y el error es igual a:"
   ]
  },
  {
   "cell_type": "markdown",
   "metadata": {},
   "source": [
    "<img src=\"https://i3.lensdump.com/i/1n8h6D.png\" alt=\"1n8h6D.png\" border=\"0\" />"
   ]
  },
  {
   "cell_type": "markdown",
   "metadata": {},
   "source": [
    "\\begin{equation}\n",
    "\\rightarrow \\int_{a}^{b} \\epsilon (x) dx = \\frac{f'' (\\epsilon)}{2} \\int_{a}^{b} x^2 - (b + a)x + ab dx = \\frac{f'' (\\epsilon)}{2} \\left[ \\left( \\frac{b^3 -a^3}{3} \\right) - (b+a)\\frac{(b - a)(b + a)}{2} + ab(b-a) \\right]\n",
    "\\end{equation}"
   ]
  },
  {
   "cell_type": "markdown",
   "metadata": {},
   "source": [
    "\\begin{equation}\n",
    "= \\frac{f'' (\\epsilon)}{2} \\left[ \\frac{(b-a)(b^2 + a^2 + ab)}{3} - \\frac{(b-a)(b+a)^2}{2} + ab(b-a) \\right] = \\frac{f'' (\\epsilon) (b-a)}{2} \\left[ \\frac{b^2 + a^2 + ab}{3} - \\frac{b^2+a^2 +2ab}{2} + ab \\right] \n",
    "\\end{equation}"
   ]
  },
  {
   "cell_type": "markdown",
   "metadata": {},
   "source": [
    "\\begin{equation}\n",
    "= \\frac{f'' (\\epsilon) (b-a)}{2} \\left[ \\frac{2b^2 + 2a^2 + 2ab - 3b^2 - 3a^2 - 6ab +6ab}{6} \\right] = \\frac{f'' (\\epsilon) (b-a)}{2} \\left[ \\frac{-b^2 - a^2 + 2ab}{6} \\right]\n",
    "\\end{equation}"
   ]
  },
  {
   "cell_type": "markdown",
   "metadata": {},
   "source": [
    "\\begin{equation}\n",
    "= \\frac{f'' (\\epsilon) (b-a)}{2} \\left[ \\frac{-(b-a)^2}{6} \\right] = -\\frac{f'' (\\epsilon) (b-a)^3}{12}\n",
    "\\end{equation}"
   ]
  },
  {
   "cell_type": "markdown",
   "metadata": {},
   "source": [
    "Y si tomamos a b-a = h, entonces:"
   ]
  },
  {
   "cell_type": "markdown",
   "metadata": {},
   "source": [
    "\\begin{equation}\n",
    "E = -\\frac{f'' (\\epsilon) (h)^3}{12}\n",
    "\\end{equation}"
   ]
  },
  {
   "cell_type": "markdown",
   "metadata": {},
   "source": [
    "## Punto 3:"
   ]
  },
  {
   "cell_type": "markdown",
   "metadata": {},
   "source": [
    "Hacer los pasos intermedios para la regla de integracion de simpson en la ecuacion:"
   ]
  },
  {
   "cell_type": "markdown",
   "metadata": {},
   "source": [
    "<img src=\"https://i1.lensdump.com/i/1n1IO9.png\" alt=\"1n1IO9.png\" border=\"0\" />"
   ]
  },
  {
   "cell_type": "markdown",
   "metadata": {},
   "source": [
    "Partimos de:"
   ]
  },
  {
   "cell_type": "markdown",
   "metadata": {},
   "source": [
    "<img src=\"https://i2.lensdump.com/i/1n1EVT.png\" alt=\"1n1EVT.png\" border=\"0\" />"
   ]
  },
  {
   "cell_type": "markdown",
   "metadata": {},
   "source": [
    "\\begin{equation}\n",
    "\\int_{a}^{b}p2(x)dx = \\frac{b-a}{6} \\left[ f(a) + 4f(\\frac{a+b}{2}) + f(b) \\right]\n",
    "\\end{equation}"
   ]
  }
 ],
 "metadata": {
  "kernelspec": {
   "display_name": "Python 3.9.12 ('base')",
   "language": "python",
   "name": "python3"
  },
  "language_info": {
   "name": "python",
   "version": "3.9.12"
  },
  "orig_nbformat": 4,
  "vscode": {
   "interpreter": {
    "hash": "b3ff5c1b5424807e928bf8bee38bc8a3478b3941c229b42d5add67274bc7395e"
   }
  }
 },
 "nbformat": 4,
 "nbformat_minor": 2
}
