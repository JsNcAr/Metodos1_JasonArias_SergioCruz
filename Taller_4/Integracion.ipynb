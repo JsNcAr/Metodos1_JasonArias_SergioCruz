{
 "cells": [
  {
   "cell_type": "markdown",
   "metadata": {},
   "source": [
    "## Taller 4 Integracion Numerica\n",
    "\n",
    "### Jason Nicolas Arias 201820623  |  Sergio Cruz"
   ]
  },
  {
   "cell_type": "markdown",
   "metadata": {},
   "source": [
    "### Punto 1:\n",
    "Hacer los pasos intermedios para la regla de trapecio simple, ecuacion:"
   ]
  },
  {
   "cell_type": "markdown",
   "metadata": {},
   "source": [
    "<img src=\"https://i3.lensdump.com/i/1e5Vq1.png\" alt=\"1e5Vq1.png\" border=\"0\" />"
   ]
  },
  {
   "cell_type": "markdown",
   "metadata": {},
   "source": [
    "Tenemos que"
   ]
  },
  {
   "cell_type": "markdown",
   "metadata": {},
   "source": [
    "<img src=\"https://i1.lensdump.com/i/1ehUJC.png\" alt=\"1ehUJC.png\" border=\"0\" />"
   ]
  },
  {
   "cell_type": "markdown",
   "metadata": {},
   "source": [
    "\\begin{equation}\n",
    "\\rightarrow \\frac{(b-a)(x-b)f(a)+f(b)(a-b)(x-a)}{(a-b)(b-a)} = \\frac{-(a-b)(x-b)f(a)+f(b)(a-b)(x-a)}{(a-b)(b-a)} = \\frac{(b-x)f(a)+f(b)(x-a)}{(b-a)} = \\frac{bf(a)}{b-a} - \\frac{xf(a)}{b-a} + \\frac{xf(b)}{b-a} - \\frac{af(b)}{b-a}\n",
    "\\end{equation}\n",
    "\n",
    "\\begin{equation}\n",
    "= \\frac{bf(a)-af(b)}{b-a} + \\frac{x(f(b)-f(a))}{b-a} \\rightarrow \\int_{a}^{b}p(x)dx = \\int_{a}^{b}  \\frac{bf(a)-af(b)}{b-a} dx + \\int_{a}^{b} \\frac{x(f(b)-f(a))}{b-a} dx\n",
    "\\end{equation}\n",
    "\n",
    "\\begin{equation}\n",
    "=  \\frac{bf(a)-af(b)}{b-a} (b-a) + \\frac{(f(b)+f(a))}{b-a} \\frac{b^2 - a^2}{2} = (bf(a)-af(b)) + \\frac{(f(b)-f(a))}{2}(b+a) = (bf(a)-af(b)) + \\frac{(f(b)-f(a))}{2}(b+a) \n",
    "\\end{equation} "
   ]
  },
  {
   "cell_type": "markdown",
   "metadata": {},
   "source": [
    "\\begin{equation}\n",
    "\\rightarrow \\int_{a}^{b}p(x)dx = \\frac{ 2bf(a)-2af(b) - bf(a) - af(a) +af(b) + bf(b) }{2} = \\frac{ bf(a) - af(b) - af(a) + bf(b) }{2}\n",
    "= \\frac{b(f(a)+f(b)) - a(f(a)+f(b))}{2}\n",
    "\\end{equation}\n",
    "\n",
    "\\begin{equation}\n",
    "= \\frac{b-a}{2}(f(a)+f(b))\n",
    "\\end{equation}"
   ]
  },
  {
   "cell_type": "markdown",
   "metadata": {},
   "source": [
    "El area de cada trapecio seria igual a: $A_{i} = \\frac{b_{menor} + B_{mayor}}{2} h = \\frac{f(x_{i})+f(x_{i+1})}{2}h$.\n",
    "\n",
    "Donde la base menor = $f(x_{i})$, base mayor = $f(x_{i+1})$, altura = $h = x_{i+1} - x_{i} = cte$\n",
    "\n",
    "Por ende, el area total seria:\n",
    "\n",
    "\\begin{equation}\n",
    "\\int_{a}^{b}f(x)dx \\approx \\frac{h}{2}\\sum_{i=0}^{N-1}\\left[f(x_{i})+f(x_{i+1})\\right].\n",
    "\\end{equation}"
   ]
  }
 ],
 "metadata": {
  "language_info": {
   "name": "python"
  },
  "orig_nbformat": 4
 },
 "nbformat": 4,
 "nbformat_minor": 2
}
