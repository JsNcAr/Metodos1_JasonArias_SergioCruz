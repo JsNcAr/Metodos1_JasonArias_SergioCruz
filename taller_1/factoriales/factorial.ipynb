{
 "cells": [
  {
   "cell_type": "code",
   "execution_count": 1,
   "metadata": {},
   "outputs": [],
   "source": [
    "def factorial(numero):\n",
    "    if numero == 0:\n",
    "        return 1\n",
    "    else:\n",
    "        return (numero*factorial(numero-1))\n"
   ]
  },
  {
   "cell_type": "code",
   "execution_count": 2,
   "metadata": {},
   "outputs": [
    {
     "name": "stdout",
     "output_type": "stream",
     "text": [
      "El factorial de 0  es  1\n",
      "El factorial de 1  es  1\n",
      "El factorial de 2  es  2\n",
      "El factorial de 3  es  6\n",
      "El factorial de 4  es  24\n",
      "El factorial de 5  es  120\n",
      "El factorial de 6  es  720\n",
      "El factorial de 7  es  5040\n",
      "El factorial de 8  es  40320\n",
      "El factorial de 9  es  362880\n",
      "El factorial de 10  es  3628800\n",
      "El factorial de 11  es  39916800\n",
      "El factorial de 12  es  479001600\n",
      "El factorial de 13  es  6227020800\n",
      "El factorial de 14  es  87178291200\n",
      "El factorial de 15  es  1307674368000\n",
      "El factorial de 16  es  20922789888000\n",
      "El factorial de 17  es  355687428096000\n",
      "El factorial de 18  es  6402373705728000\n",
      "El factorial de 19  es  121645100408832000\n"
     ]
    }
   ],
   "source": [
    "for i in range(20):\n",
    "    print(\"El factorial de\", i, \" es \", factorial(i))\n"
   ]
  },
  {
   "cell_type": "code",
   "execution_count": 3,
   "metadata": {},
   "outputs": [],
   "source": [
    "def variaciones(n, r):\n",
    "    numerador = factorial(n)\n",
    "    denominador = factorial(n-r)\n",
    "    return int(numerador/denominador)\n"
   ]
  },
  {
   "cell_type": "code",
   "execution_count": 4,
   "metadata": {},
   "outputs": [
    {
     "data": {
      "text/plain": [
       "120"
      ]
     },
     "execution_count": 4,
     "metadata": {},
     "output_type": "execute_result"
    }
   ],
   "source": [
    "variaciones(6, 3)\n"
   ]
  },
  {
   "cell_type": "code",
   "execution_count": 5,
   "metadata": {},
   "outputs": [],
   "source": [
    "def combinaciones(n, m):\n",
    "    numerador = factorial(n)\n",
    "    denominador = (factorial(m)*(factorial(n - m)))\n",
    "    return int(numerador/denominador)\n"
   ]
  },
  {
   "cell_type": "code",
   "execution_count": 6,
   "metadata": {},
   "outputs": [
    {
     "data": {
      "text/plain": [
       "352716"
      ]
     },
     "execution_count": 6,
     "metadata": {},
     "output_type": "execute_result"
    }
   ],
   "source": [
    "combinaciones(21, 10)\n"
   ]
  }
 ],
 "metadata": {
  "kernelspec": {
   "display_name": "Python 3.9.13 ('platzi')",
   "language": "python",
   "name": "python3"
  },
  "language_info": {
   "codemirror_mode": {
    "name": "ipython",
    "version": 3
   },
   "file_extension": ".py",
   "mimetype": "text/x-python",
   "name": "python",
   "nbconvert_exporter": "python",
   "pygments_lexer": "ipython3",
   "version": "3.9.13"
  },
  "orig_nbformat": 4,
  "vscode": {
   "interpreter": {
    "hash": "c1d94bcfde64483bbdff4ddfb18ad0c4001c1fcdd82298aa260831c15f01c0d2"
   }
  }
 },
 "nbformat": 4,
 "nbformat_minor": 2
}
