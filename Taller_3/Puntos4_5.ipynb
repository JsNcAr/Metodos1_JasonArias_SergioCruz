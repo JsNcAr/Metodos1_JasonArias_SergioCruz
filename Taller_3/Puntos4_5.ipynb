{
 "cells": [
  {
   "cell_type": "code",
   "execution_count": 1,
   "metadata": {},
   "outputs": [],
   "source": [
    "import numpy as np\n",
    "import matplotlib.pyplot as plt\n",
    "import pandas as pd\n",
    "import sympy as sp\n"
   ]
  },
  {
   "cell_type": "markdown",
   "metadata": {},
   "source": [
    "## Punto 4"
   ]
  },
  {
   "cell_type": "code",
   "execution_count": 2,
   "metadata": {},
   "outputs": [],
   "source": [
    "df = pd.read_csv('Parabolico.csv', sep=',', encoding='utf-8')\n",
    "x = df['X'].values\n",
    "y = df['Y'].values\n"
   ]
  },
  {
   "cell_type": "code",
   "execution_count": 3,
   "metadata": {},
   "outputs": [],
   "source": [
    "def Newton_Gregory_Generator(X, Y):\n",
    "    Diff = np.zeros((len(X), len(Y)))\n",
    "    Diff[:, 0] = Y\n",
    "    n = len(X)\n",
    "    for i in range(1, n):\n",
    "        for j in range(i, len(Y)):\n",
    "            Diff[j, i] = (Diff[j, i-1] - Diff[j-1, i-1]) / (X[j] - X[j-i])\n",
    "    return Diff\n"
   ]
  },
  {
   "cell_type": "code",
   "execution_count": 4,
   "metadata": {},
   "outputs": [],
   "source": [
    "def Newton_gregory(X, Y, x):\n",
    "    n = len(X)\n",
    "    Diff = Newton_Gregory_Generator(X, Y)\n",
    "    y = Y[0]\n",
    "    h = X[1] - X[0]\n",
    "\n",
    "    poly = 1.0\n",
    "\n",
    "    for i in range(1, n):\n",
    "        poly *= (x - X[i-1])\n",
    "        for j in range(i, len(Y)):\n",
    "            h = X[j] - X[j-i]\n",
    "            Diff[j, i] = (Diff[j, i-1] - Diff[j-1, i-1])/h\n",
    "        y += (poly * Diff[i, i])\n",
    "    return y, np.round(Diff, 2)\n"
   ]
  },
  {
   "cell_type": "code",
   "execution_count": 5,
   "metadata": {},
   "outputs": [
    {
     "data": {
      "image/png": "[encoded data removed]",
      "text/plain": [
       "<Figure size 432x288 with 1 Axes>"
      ]
     },
     "metadata": {
      "needs_background": "light"
     },
     "output_type": "display_data"
    }
   ],
   "source": [
    "x_c = np.linspace(np.min(x), np.max(x), 100)\n",
    "y_c, _ = Newton_gregory(x, y, x_c)\n",
    "\n",
    "plt.plot(x, y, \"o\", label=\"Datos\")\n",
    "plt.plot(x_c, y_c, color=\"red\", label=\"Newton Gregory\")\n",
    "plt.legend()\n",
    "plt.show()\n"
   ]
  },
  {
   "cell_type": "code",
   "execution_count": 6,
   "metadata": {},
   "outputs": [
    {
     "data": {
      "text/latex": [
       "$\\displaystyle - 0.0554912422401579 x^{2} + 0.363970234266202 x + 5.55111512312578 \\cdot 10^{-17}$"
      ],
      "text/plain": [
       "-0.0554912422401579*x**2 + 0.363970234266202*x + 5.55111512312578e-17"
      ]
     },
     "execution_count": 6,
     "metadata": {},
     "output_type": "execute_result"
    }
   ],
   "source": [
    "x_s = sp.Symbol('x', Real='True')\n",
    "y_s, _ = Newton_gregory(x, y, x_s)\n",
    "y_s = y_s.simplify()\n",
    "y_s\n"
   ]
  },
  {
   "cell_type": "code",
   "execution_count": 7,
   "metadata": {},
   "outputs": [
    {
     "name": "stdout",
     "output_type": "stream",
     "text": [
      "Theta:  11.7826435353643\n",
      "V:  1.02152423966742\n"
     ]
    }
   ],
   "source": [
    "def initial_theta(x_s, y_s):\n",
    "    return sp.atan(y_s.diff(x_s).subs(x_s, x[0]))\n",
    "\n",
    "\n",
    "def initial_v(x_s, y_s, theta):\n",
    "    return sp.sqrt((y_s.diff(x_s).subs(x_s, x[0]))**2 + 1)\n",
    "\n",
    "\n",
    "theta = initial_theta(x_s, y_s)\n",
    "theta_deg = theta.evalf(subs={x_s: x[0]}) * 180 / np.pi\n",
    "v = initial_v(x_s, y_s, theta)\n",
    "\n",
    "print(\"Theta: \", theta_deg)\n",
    "print(\"V: \", v)\n"
   ]
  },
  {
   "cell_type": "markdown",
   "metadata": {},
   "source": [
    "## Punto 5"
   ]
  },
  {
   "cell_type": "code",
   "execution_count": 8,
   "metadata": {},
   "outputs": [],
   "source": [
    "df = pd.read_csv('InterpolacionNewtonNoequi.csv', sep=',', encoding='utf-8')\n",
    "x = df['X'].values\n",
    "y = df['Y'].values\n"
   ]
  },
  {
   "cell_type": "code",
   "execution_count": 9,
   "metadata": {},
   "outputs": [
    {
     "data": {
      "image/png": "[encoded data removed]",
      "text/plain": [
       "<Figure size 432x288 with 1 Axes>"
      ]
     },
     "metadata": {
      "needs_background": "light"
     },
     "output_type": "display_data"
    }
   ],
   "source": [
    "x_c = np.linspace(np.min(x), np.max(x), 100)\n",
    "y_c, _ = Newton_gregory(x, y, x_c)\n",
    "\n",
    "plt.plot(x, y, \"o\", label=\"Datos\")\n",
    "plt.plot(x_c, y_c, color=\"red\", label=\"Newton Gregory\")\n",
    "plt.legend()\n",
    "plt.show()\n"
   ]
  },
  {
   "cell_type": "code",
   "execution_count": 10,
   "metadata": {},
   "outputs": [
    {
     "data": {
      "text/latex": [
       "$\\displaystyle - 0.34145435774264 x^{5} + 5.84804869821673 x^{4} - 35.6998197753506 x^{3} + 89.657566164176 x^{2} - 68.8369730888011 x - 18.0$"
      ],
      "text/plain": [
       "-0.34145435774264*x**5 + 5.84804869821673*x**4 - 35.6998197753506*x**3 + 89.657566164176*x**2 - 68.8369730888011*x - 18.0"
      ]
     },
     "execution_count": 10,
     "metadata": {},
     "output_type": "execute_result"
    }
   ],
   "source": [
    "x_s = sp.Symbol('x', Real='True')\n",
    "y_s, _ = Newton_gregory(x, y, x_s)\n",
    "y_s = y_s.simplify()\n",
    "y_s\n"
   ]
  }
 ],
 "metadata": {
  "kernelspec": {
   "display_name": "Python 3.9.12 ('base')",
   "language": "python",
   "name": "python3"
  },
  "language_info": {
   "codemirror_mode": {
    "name": "ipython",
    "version": 3
   },
   "file_extension": ".py",
   "mimetype": "text/x-python",
   "name": "python",
   "nbconvert_exporter": "python",
   "pygments_lexer": "ipython3",
   "version": "3.9.12"
  },
  "orig_nbformat": 4,
  "vscode": {
   "interpreter": {
    "hash": "b3ff5c1b5424807e928bf8bee38bc8a3478b3941c229b42d5add67274bc7395e"
   }
  }
 },
 "nbformat": 4,
 "nbformat_minor": 2
}
