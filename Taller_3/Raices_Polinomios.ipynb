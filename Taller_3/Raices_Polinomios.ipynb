{
 "cells": [
  {
   "cell_type": "code",
   "execution_count": null,
   "metadata": {},
   "outputs": [],
   "source": [
    "import numpy as np\n",
    "import sympy as sp"
   ]
  },
  {
   "cell_type": "markdown",
   "metadata": {},
   "source": [
    "### 5)"
   ]
  },
  {
   "cell_type": "code",
   "execution_count": null,
   "metadata": {},
   "outputs": [],
   "source": [
    "def laguerre_polinomial(polinomial, x0, tol, iter):\n",
    "    x = sp.Symbol('x')\n",
    "    f = sp.sympify(polinomial)\n",
    "    df = sp.diff(f)\n",
    "    ddf = sp.diff(df)\n",
    "    x0 = float(x0)\n",
    "    tol = float(tol)\n",
    "    iter = int(iter)\n",
    "    for i in range(iter):\n",
    "        f_x0 = f.subs(x, x0)\n",
    "        df_x0 = df.subs(x, x0)\n",
    "        ddf_x0 = ddf.subs(x, x0)\n",
    "        g = df_x0 / f_x0\n",
    "        h = g**2 - ddf_x0 / f_x0\n",
    "        s = sp.sqrt((g + sp.sqrt(h))**2 - h)\n",
    "        if abs(g + s - h) > abs(g - s - h):\n",
    "            a = g + s\n",
    "        else:\n",
    "            a = g - s\n",
    "        if a == 0:\n",
    "            print(\"No se puede dividir entre 0\")\n",
    "            break\n",
    "        b = f_x0 / a\n",
    "        x1 = x0 - b\n",
    "        if abs(b) < tol:\n",
    "            print(\"La raiz es: \", x1)\n",
    "            break\n",
    "        x0 = x1\n",
    "    return x1"
   ]
  }
 ],
 "metadata": {
  "kernelspec": {
   "display_name": "Python 3.9.12 ('base')",
   "language": "python",
   "name": "python3"
  },
  "language_info": {
   "name": "python",
   "version": "3.9.12"
  },
  "orig_nbformat": 4,
  "vscode": {
   "interpreter": {
    "hash": "b3ff5c1b5424807e928bf8bee38bc8a3478b3941c229b42d5add67274bc7395e"
   }
  }
 },
 "nbformat": 4,
 "nbformat_minor": 2
}
