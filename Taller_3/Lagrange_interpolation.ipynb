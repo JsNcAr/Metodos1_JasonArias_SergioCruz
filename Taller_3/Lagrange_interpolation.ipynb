{
 "cells": [
  {
   "cell_type": "markdown",
   "metadata": {},
   "source": [
    "<img src=\"https://i3.lensdump.com/i/17wLMk.png\" alt=\"17wLMk.png\" border=\"0\" width=700px/>\n",
    "<img src=\"https://i.lensdump.com/i/17wMax.png\" alt=\"17wMax.png\" border=\"0\" width=700px/>\n",
    "<img src=\"https://i1.lensdump.com/i/17wo6H.png\" alt=\"17wo6H.png\" border=\"0\" width=700px/>\n",
    "<img src=\"https://i1.lensdump.com/i/17wfKZ.png\" alt=\"17wfKZ.png\" border=\"0\" width=700px/>"
   ]
  }
 ],
 "metadata": {
  "kernelspec": {
   "display_name": "Python 3.9.12 ('base')",
   "language": "python",
   "name": "python3"
  },
  "language_info": {
   "codemirror_mode": {
    "name": "ipython",
    "version": 3
   },
   "file_extension": ".py",
   "mimetype": "text/x-python",
   "name": "python",
   "nbconvert_exporter": "python",
   "pygments_lexer": "ipython3",
   "version": "3.9.12"
  },
  "orig_nbformat": 4,
  "vscode": {
   "interpreter": {
    "hash": "b3ff5c1b5424807e928bf8bee38bc8a3478b3941c229b42d5add67274bc7395e"
   }
  }
 },
 "nbformat": 4,
 "nbformat_minor": 2
}
