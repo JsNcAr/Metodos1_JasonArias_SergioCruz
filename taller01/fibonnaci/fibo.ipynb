{
 "cells": [
  {
   "cell_type": "code",
   "execution_count": 1,
   "metadata": {},
   "outputs": [],
   "source": [
    "import matplotlib.pyplot as plt\n",
    "import numpy as np"
   ]
  },
  {
   "cell_type": "markdown",
   "metadata": {},
   "source": [
    "# Fibonnaci"
   ]
  },
  {
   "cell_type": "code",
   "execution_count": 2,
   "metadata": {},
   "outputs": [],
   "source": [
    "def fibo_gen(n=None):\n",
    "    a, b = 0, 1\n",
    "    counter = 0\n",
    "    while not n or counter < n:\n",
    "        if counter == 0:\n",
    "            counter += 1\n",
    "            yield a\n",
    "        elif counter == 1:\n",
    "            counter += 1\n",
    "            yield b\n",
    "        else:\n",
    "            current = a + b\n",
    "            a, b = b, current\n",
    "            counter += 1\n",
    "            yield current"
   ]
  },
  {
   "cell_type": "code",
   "execution_count": 3,
   "metadata": {},
   "outputs": [],
   "source": [
    "fibonacci = list(fibo_gen(20))"
   ]
  },
  {
   "cell_type": "code",
   "execution_count": 4,
   "metadata": {},
   "outputs": [
    {
     "data": {
      "image/png": "[encoded data removed]",
      "text/plain": [
       "<Figure size 432x288 with 1 Axes>"
      ]
     },
     "metadata": {
      "needs_background": "light"
     },
     "output_type": "display_data"
    }
   ],
   "source": [
    "plt.plot(fibonacci, 'r--', markersize=10)\n",
    "plt.show()"
   ]
  },
  {
   "cell_type": "markdown",
   "metadata": {},
   "source": [
    "# Golden ratio"
   ]
  },
  {
   "cell_type": "code",
   "execution_count": 5,
   "metadata": {},
   "outputs": [
    {
     "name": "stdout",
     "output_type": "stream",
     "text": [
      "Fibonnaci teorico: 1.618033988749895\n",
      "Fibonnaci calculado: 1.618034055727554\n",
      "Error: -6.697765919660981e-08\n"
     ]
    }
   ],
   "source": [
    "phi = fibonacci[19]/fibonacci[18]\n",
    "phi_teo = (1+np.sqrt(5))/2\n",
    "print(f'Fibonnaci teorico: {phi_teo}')\n",
    "print(f'Fibonnaci calculado: {phi}')\n",
    "print(f'Error: {phi_teo-phi}')"
   ]
  }
 ],
 "metadata": {
  "kernelspec": {
   "display_name": "Python 3.9.12 ('base')",
   "language": "python",
   "name": "python3"
  },
  "language_info": {
   "codemirror_mode": {
    "name": "ipython",
    "version": 3
   },
   "file_extension": ".py",
   "mimetype": "text/x-python",
   "name": "python",
   "nbconvert_exporter": "python",
   "pygments_lexer": "ipython3",
   "version": "3.9.12"
  },
  "orig_nbformat": 4,
  "vscode": {
   "interpreter": {
    "hash": "b3ff5c1b5424807e928bf8bee38bc8a3478b3941c229b42d5add67274bc7395e"
   }
  }
 },
 "nbformat": 4,
 "nbformat_minor": 2
}
