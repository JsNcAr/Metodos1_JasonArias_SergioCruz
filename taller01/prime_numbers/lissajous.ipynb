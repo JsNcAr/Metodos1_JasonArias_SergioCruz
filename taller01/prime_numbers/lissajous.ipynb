{
 "cells": [
  {
   "cell_type": "code",
   "execution_count": 1,
   "metadata": {},
   "outputs": [],
   "source": [
    "import numpy as np\n",
    "import matplotlib.pyplot as plt"
   ]
  },
  {
   "cell_type": "code",
   "execution_count": 4,
   "metadata": {},
   "outputs": [
    {
     "name": "stdout",
     "output_type": "stream",
     "text": [
      "[2, 3, 3, 4, 4, 4, 5, 5, 5, 5] [1, 1, 2, 1, 2, 3, 1, 2, 3, 4]\n"
     ]
    },
    {
     "data": {
      "text/plain": [
       "\" def lissajous_figures_2d_generator(A, w_x, w_y, n_sides, d):\\n    t = np.linspace(0, 2*np.pi, 100)\\n    for i in range(len(d)):\\n        x = A*np.cos(w_x*t + d[i])\\n        y = A*np.cos(w_y*t)\\n        plt.plot(x, y)\\n        plt.title('Lissajous figures')\\n        plt.xlabel('x')\\n        plt.ylabel('y')\\n        plt.savefig('lissajous_figures_2d_generator_{}.png'.format(i))\\n        plt.show()\\n        plt.close()\\n\\nlissajous_figures_2d_generator(A, w_x, w_y, n_sides, d) \""
      ]
     },
     "execution_count": 4,
     "metadata": {},
     "output_type": "execute_result"
    }
   ],
   "source": [
    "A = 1\n",
    "w_x = 1\n",
    "w_y = 1\n",
    "n_sides = 5\n",
    "d = [0, np.pi/4, np.pi/2]\n",
    "ωx = [1, 1, 1, 1, 1, 2, 2, 2, 2, 3, 3, 3, 4, 4, 5]\n",
    "wy = [1, 2, 3, 4, 5, 2, 3, 4, 5, 3, 4, 5, 4, 5, 5]\n",
    "t = np.linspace(0, 2*np.pi, 100)\n",
    "theta = np.linspace(0, 2*np.pi, 100)\n",
    "\n",
    "nx = []\n",
    "ny = []\n",
    "k = 0\n",
    "for i in range(2, 6):\n",
    "    for j in range(1, 6):\n",
    "        if i > j:\n",
    "            ny.append(i)\n",
    "            nx.append(j)\n",
    "            fig = plt.subplot(n_sides, n_sides, k)\n",
    "            fig.set_title('nx = {} ny = {}'.format(nx[k], ny[k]))\n",
    "            fig.set_xlabel('x')\n",
    "            fig.set_ylabel('y')\n",
    "            fig.plot(np.cos(j*theta), np.sin(j*theta), 'b')\n",
    "            k += 1\n",
    "\n",
    "print(nx, ny)\n",
    "\n",
    "\"\"\" def lissajous_figures_2d_generator(A, w_x, w_y, n_sides, d):\n",
    "    t = np.linspace(0, 2*np.pi, 100)\n",
    "    for i in range(len(d)):\n",
    "        x = A*np.cos(w_x*t + d[i])\n",
    "        y = A*np.cos(w_y*t)\n",
    "        plt.plot(x, y)\n",
    "        plt.title('Lissajous figures')\n",
    "        plt.xlabel('x')\n",
    "        plt.ylabel('y')\n",
    "        plt.savefig('lissajous_figures_2d_generator_{}.png'.format(i))\n",
    "        plt.show()\n",
    "        plt.close()\n",
    "\n",
    "lissajous_figures_2d_generator(A, w_x, w_y, n_sides, d) \"\"\"\n"
   ]
  }
 ],
 "metadata": {
  "kernelspec": {
   "display_name": "Python 3.9.12 ('base')",
   "language": "python",
   "name": "python3"
  },
  "language_info": {
   "codemirror_mode": {
    "name": "ipython",
    "version": 3
   },
   "file_extension": ".py",
   "mimetype": "text/x-python",
   "name": "python",
   "nbconvert_exporter": "python",
   "pygments_lexer": "ipython3",
   "version": "3.9.12"
  },
  "orig_nbformat": 4,
  "vscode": {
   "interpreter": {
    "hash": "b3ff5c1b5424807e928bf8bee38bc8a3478b3941c229b42d5add67274bc7395e"
   }
  }
 },
 "nbformat": 4,
 "nbformat_minor": 2
}
