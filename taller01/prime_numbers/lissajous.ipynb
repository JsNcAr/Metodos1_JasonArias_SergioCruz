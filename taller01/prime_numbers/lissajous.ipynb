{
 "cells": [
  {
   "cell_type": "code",
   "execution_count": 2,
   "metadata": {},
   "outputs": [],
   "source": [
    "import numpy as np\n",
    "import matplotlib.pyplot as plt"
   ]
  },
  {
   "cell_type": "code",
   "execution_count": 3,
   "metadata": {},
   "outputs": [
    {
     "ename": "ValueError",
     "evalue": "operands could not be broadcast together with shapes (5,5) (3,) ",
     "output_type": "error",
     "traceback": [
      "\u001b[0;31m---------------------------------------------------------------------------\u001b[0m",
      "\u001b[0;31mValueError\u001b[0m                                Traceback (most recent call last)",
      "\u001b[1;32m/home/ramsus/Programming/Metodos1_JasonArias_SergioCruz/taller01/prime_numbers/lissajous.ipynb Cell 2\u001b[0m in \u001b[0;36m<cell line: 14>\u001b[0;34m()\u001b[0m\n\u001b[1;32m     <a href='vscode-notebook-cell:/home/ramsus/Programming/Metodos1_JasonArias_SergioCruz/taller01/prime_numbers/lissajous.ipynb#W1sZmlsZQ%3D%3D?line=10'>11</a>\u001b[0m     Z \u001b[39m=\u001b[39m A\u001b[39m*\u001b[39mnp\u001b[39m.\u001b[39mcos(w_x\u001b[39m*\u001b[39mX \u001b[39m+\u001b[39m w_y\u001b[39m*\u001b[39mY \u001b[39m+\u001b[39m d)\n\u001b[1;32m     <a href='vscode-notebook-cell:/home/ramsus/Programming/Metodos1_JasonArias_SergioCruz/taller01/prime_numbers/lissajous.ipynb#W1sZmlsZQ%3D%3D?line=11'>12</a>\u001b[0m     \u001b[39mreturn\u001b[39;00m X, Y, Z\n\u001b[0;32m---> <a href='vscode-notebook-cell:/home/ramsus/Programming/Metodos1_JasonArias_SergioCruz/taller01/prime_numbers/lissajous.ipynb#W1sZmlsZQ%3D%3D?line=13'>14</a>\u001b[0m liss \u001b[39m=\u001b[39m lissajous(A, w_x, w_y, n_sides, d)\n\u001b[1;32m     <a href='vscode-notebook-cell:/home/ramsus/Programming/Metodos1_JasonArias_SergioCruz/taller01/prime_numbers/lissajous.ipynb#W1sZmlsZQ%3D%3D?line=15'>16</a>\u001b[0m plt\u001b[39m.\u001b[39mfigure()\n\u001b[1;32m     <a href='vscode-notebook-cell:/home/ramsus/Programming/Metodos1_JasonArias_SergioCruz/taller01/prime_numbers/lissajous.ipynb#W1sZmlsZQ%3D%3D?line=16'>17</a>\u001b[0m plt\u001b[39m.\u001b[39mcontourf(liss[\u001b[39m0\u001b[39m], liss[\u001b[39m1\u001b[39m], liss[\u001b[39m2\u001b[39m], levels\u001b[39m=\u001b[39mnp\u001b[39m.\u001b[39mlinspace(np\u001b[39m.\u001b[39mmin(liss[\u001b[39m2\u001b[39m]), np\u001b[39m.\u001b[39mmax(liss[\u001b[39m2\u001b[39m]), \u001b[39m100\u001b[39m))\n",
      "\u001b[1;32m/home/ramsus/Programming/Metodos1_JasonArias_SergioCruz/taller01/prime_numbers/lissajous.ipynb Cell 2\u001b[0m in \u001b[0;36mlissajous\u001b[0;34m(A, w_x, w_y, n_sides, d)\u001b[0m\n\u001b[1;32m      <a href='vscode-notebook-cell:/home/ramsus/Programming/Metodos1_JasonArias_SergioCruz/taller01/prime_numbers/lissajous.ipynb#W1sZmlsZQ%3D%3D?line=8'>9</a>\u001b[0m y \u001b[39m=\u001b[39m np\u001b[39m.\u001b[39mlinspace(\u001b[39m0\u001b[39m, \u001b[39m2\u001b[39m\u001b[39m*\u001b[39mnp\u001b[39m.\u001b[39mpi, n_sides)\n\u001b[1;32m     <a href='vscode-notebook-cell:/home/ramsus/Programming/Metodos1_JasonArias_SergioCruz/taller01/prime_numbers/lissajous.ipynb#W1sZmlsZQ%3D%3D?line=9'>10</a>\u001b[0m X, Y \u001b[39m=\u001b[39m np\u001b[39m.\u001b[39mmeshgrid(x, y)\n\u001b[0;32m---> <a href='vscode-notebook-cell:/home/ramsus/Programming/Metodos1_JasonArias_SergioCruz/taller01/prime_numbers/lissajous.ipynb#W1sZmlsZQ%3D%3D?line=10'>11</a>\u001b[0m Z \u001b[39m=\u001b[39m A\u001b[39m*\u001b[39mnp\u001b[39m.\u001b[39mcos(w_x\u001b[39m*\u001b[39;49mX \u001b[39m+\u001b[39;49m w_y\u001b[39m*\u001b[39;49mY \u001b[39m+\u001b[39;49m d)\n\u001b[1;32m     <a href='vscode-notebook-cell:/home/ramsus/Programming/Metodos1_JasonArias_SergioCruz/taller01/prime_numbers/lissajous.ipynb#W1sZmlsZQ%3D%3D?line=11'>12</a>\u001b[0m \u001b[39mreturn\u001b[39;00m X, Y, Z\n",
      "\u001b[0;31mValueError\u001b[0m: operands could not be broadcast together with shapes (5,5) (3,) "
     ]
    }
   ],
   "source": [
    "A = 1\n",
    "w_x = 1\n",
    "w_y = 1\n",
    "n_sides = 5\n",
    "d = [0, np.pi/4, np.pi/2]\n",
    "\n",
    "def lissajous(A, w_x, w_y, n_sides, d):\n",
    "    x = np.linspace(0, 2*np.pi, n_sides)\n",
    "    y = np.linspace(0, 2*np.pi, n_sides)"
   ]
  }
 ],
 "metadata": {
  "kernelspec": {
   "display_name": "Python 3.9.12 ('base')",
   "language": "python",
   "name": "python3"
  },
  "language_info": {
   "codemirror_mode": {
    "name": "ipython",
    "version": 3
   },
   "file_extension": ".py",
   "mimetype": "text/x-python",
   "name": "python",
   "nbconvert_exporter": "python",
   "pygments_lexer": "ipython3",
   "version": "3.9.12"
  },
  "orig_nbformat": 4,
  "vscode": {
   "interpreter": {
    "hash": "b3ff5c1b5424807e928bf8bee38bc8a3478b3941c229b42d5add67274bc7395e"
   }
  }
 },
 "nbformat": 4,
 "nbformat_minor": 2
}
